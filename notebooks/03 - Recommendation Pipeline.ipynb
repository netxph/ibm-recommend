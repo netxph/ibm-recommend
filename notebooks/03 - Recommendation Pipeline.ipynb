{
 "cells": [
  {
   "cell_type": "markdown",
   "source": [
    "# Recommendations with IBM\r\n",
    "## Data Analysis\r\n",
    "\r\n"
   ],
   "metadata": {}
  },
  {
   "cell_type": "markdown",
   "source": [
    "In this notebook, you will be putting your recommendation skills to use on real data from the IBM Watson Studio platform. \r\n",
    "\r\n",
    "\r\n",
    "You may either submit your notebook through the workspace here, or you may work from your local machine and submit through the next page.  Either way assure that your code passes the project [RUBRIC](https://review.udacity.com/#!/rubrics/2322/view).  **Please save regularly.**\r\n",
    "\r\n",
    "By following the table of contents, you will build out a number of different methods for making recommendations that can be used for different situations. \r\n",
    "\r\n",
    "\r\n",
    "## Table of Contents\r\n",
    "\r\n",
    "I. [Exploratory Data Analysis](#Exploratory-Data-Analysis)<br>\r\n",
    "II. [Rank Based Recommendations](#Rank)<br>\r\n",
    "III. [User-User Based Collaborative Filtering](#User-User)<br>\r\n",
    "IV. [Content Based Recommendations (EXTRA - NOT REQUIRED)](#Content-Recs)<br>\r\n",
    "V. [Matrix Factorization](#Matrix-Fact)<br>\r\n",
    "VI. [Extras & Concluding](#conclusions)\r\n",
    "\r\n",
    "At the end of the notebook, you will find directions for how to submit your work.  Let's get started by importing the necessary libraries and reading in the data."
   ],
   "metadata": {}
  },
  {
   "cell_type": "code",
   "execution_count": 1,
   "source": [
    "!pip install -e ../"
   ],
   "outputs": [
    {
     "output_type": "stream",
     "name": "stdout",
     "text": [
      "Obtaining file:///C:/Users/netxph/Projects/ibm-recommend\n",
      "Installing collected packages: ibm-recommend\n",
      "  Attempting uninstall: ibm-recommend\n",
      "    Found existing installation: ibm-recommend 0.1.0\n",
      "    Uninstalling ibm-recommend-0.1.0:\n",
      "      Successfully uninstalled ibm-recommend-0.1.0\n",
      "  Running setup.py develop for ibm-recommend\n",
      "Successfully installed ibm-recommend-0.1.0\n"
     ]
    }
   ],
   "metadata": {}
  },
  {
   "cell_type": "code",
   "execution_count": 2,
   "source": [
    "import pandas as pd\r\n",
    "import numpy as np\r\n",
    "import matplotlib.pyplot as plt\r\n",
    "import ibm_recommend.project_tests as t\r\n",
    "\r\n",
    "%matplotlib inline"
   ],
   "outputs": [],
   "metadata": {
    "collapsed": true
   }
  },
  {
   "cell_type": "code",
   "execution_count": 3,
   "source": [
    "articles = pd.read_csv(\"../data/processed/articles.csv\")\r\n",
    "articles.article_id = articles.article_id.astype(str)\r\n",
    "articles.head()"
   ],
   "outputs": [
    {
     "output_type": "execute_result",
     "data": {
      "text/html": [
       "<div>\n",
       "<style scoped>\n",
       "    .dataframe tbody tr th:only-of-type {\n",
       "        vertical-align: middle;\n",
       "    }\n",
       "\n",
       "    .dataframe tbody tr th {\n",
       "        vertical-align: top;\n",
       "    }\n",
       "\n",
       "    .dataframe thead th {\n",
       "        text-align: right;\n",
       "    }\n",
       "</style>\n",
       "<table border=\"1\" class=\"dataframe\">\n",
       "  <thead>\n",
       "    <tr style=\"text-align: right;\">\n",
       "      <th></th>\n",
       "      <th>article_id</th>\n",
       "      <th>name</th>\n",
       "      <th>description</th>\n",
       "      <th>body</th>\n",
       "    </tr>\n",
       "  </thead>\n",
       "  <tbody>\n",
       "    <tr>\n",
       "      <th>0</th>\n",
       "      <td>0</td>\n",
       "      <td>Detect Malfunctioning IoT Sensors with Streami...</td>\n",
       "      <td>Detect bad readings in real time using Python ...</td>\n",
       "      <td>Skip navigation Sign in SearchLoading...\\r\\n\\r...</td>\n",
       "    </tr>\n",
       "    <tr>\n",
       "      <th>1</th>\n",
       "      <td>1</td>\n",
       "      <td>Communicating data science: A guide to present...</td>\n",
       "      <td>See the forest, see the trees. Here lies the c...</td>\n",
       "      <td>No Free Hunch Navigation * kaggle.com\\r\\n\\r\\n ...</td>\n",
       "    </tr>\n",
       "    <tr>\n",
       "      <th>2</th>\n",
       "      <td>2</td>\n",
       "      <td>This Week in Data Science (April 18, 2017)</td>\n",
       "      <td>Here’s this week’s news in Data Science and Bi...</td>\n",
       "      <td>☰ * Login\\r\\n * Sign Up\\r\\n\\r\\n * Learning Pat...</td>\n",
       "    </tr>\n",
       "    <tr>\n",
       "      <th>3</th>\n",
       "      <td>3</td>\n",
       "      <td>DataLayer Conference: Boost the performance of...</td>\n",
       "      <td>Learn how distributed DBs solve the problem of...</td>\n",
       "      <td>DATALAYER: HIGH THROUGHPUT, LOW LATENCY AT SCA...</td>\n",
       "    </tr>\n",
       "    <tr>\n",
       "      <th>4</th>\n",
       "      <td>4</td>\n",
       "      <td>Analyze NY Restaurant data using Spark in DSX</td>\n",
       "      <td>This video demonstrates the power of IBM DataS...</td>\n",
       "      <td>Skip navigation Sign in SearchLoading...\\r\\n\\r...</td>\n",
       "    </tr>\n",
       "  </tbody>\n",
       "</table>\n",
       "</div>"
      ],
      "text/plain": [
       "  article_id                                               name  \\\n",
       "0          0  Detect Malfunctioning IoT Sensors with Streami...   \n",
       "1          1  Communicating data science: A guide to present...   \n",
       "2          2         This Week in Data Science (April 18, 2017)   \n",
       "3          3  DataLayer Conference: Boost the performance of...   \n",
       "4          4      Analyze NY Restaurant data using Spark in DSX   \n",
       "\n",
       "                                         description  \\\n",
       "0  Detect bad readings in real time using Python ...   \n",
       "1  See the forest, see the trees. Here lies the c...   \n",
       "2  Here’s this week’s news in Data Science and Bi...   \n",
       "3  Learn how distributed DBs solve the problem of...   \n",
       "4  This video demonstrates the power of IBM DataS...   \n",
       "\n",
       "                                                body  \n",
       "0  Skip navigation Sign in SearchLoading...\\r\\n\\r...  \n",
       "1  No Free Hunch Navigation * kaggle.com\\r\\n\\r\\n ...  \n",
       "2  ☰ * Login\\r\\n * Sign Up\\r\\n\\r\\n * Learning Pat...  \n",
       "3  DATALAYER: HIGH THROUGHPUT, LOW LATENCY AT SCA...  \n",
       "4  Skip navigation Sign in SearchLoading...\\r\\n\\r...  "
      ]
     },
     "metadata": {},
     "execution_count": 3
    }
   ],
   "metadata": {
    "collapsed": true
   }
  },
  {
   "cell_type": "code",
   "execution_count": 4,
   "source": [
    "articles.info()"
   ],
   "outputs": [
    {
     "output_type": "stream",
     "name": "stdout",
     "text": [
      "<class 'pandas.core.frame.DataFrame'>\n",
      "RangeIndex: 1051 entries, 0 to 1050\n",
      "Data columns (total 4 columns):\n",
      " #   Column       Non-Null Count  Dtype \n",
      "---  ------       --------------  ----- \n",
      " 0   article_id   1051 non-null   object\n",
      " 1   name         1051 non-null   object\n",
      " 2   description  1048 non-null   object\n",
      " 3   body         1037 non-null   object\n",
      "dtypes: object(4)\n",
      "memory usage: 33.0+ KB\n"
     ]
    }
   ],
   "metadata": {}
  },
  {
   "cell_type": "code",
   "execution_count": 5,
   "source": [
    "interactions = pd.read_csv(\"../data/processed/interactions.csv\")\r\n",
    "interactions.article_id = interactions.article_id.astype(str)\r\n",
    "interactions.head()"
   ],
   "outputs": [
    {
     "output_type": "execute_result",
     "data": {
      "text/html": [
       "<div>\n",
       "<style scoped>\n",
       "    .dataframe tbody tr th:only-of-type {\n",
       "        vertical-align: middle;\n",
       "    }\n",
       "\n",
       "    .dataframe tbody tr th {\n",
       "        vertical-align: top;\n",
       "    }\n",
       "\n",
       "    .dataframe thead th {\n",
       "        text-align: right;\n",
       "    }\n",
       "</style>\n",
       "<table border=\"1\" class=\"dataframe\">\n",
       "  <thead>\n",
       "    <tr style=\"text-align: right;\">\n",
       "      <th></th>\n",
       "      <th>user_id</th>\n",
       "      <th>article_id</th>\n",
       "      <th>title</th>\n",
       "      <th>email</th>\n",
       "    </tr>\n",
       "  </thead>\n",
       "  <tbody>\n",
       "    <tr>\n",
       "      <th>0</th>\n",
       "      <td>1</td>\n",
       "      <td>1430</td>\n",
       "      <td>using pixiedust for fast, flexible, and easier...</td>\n",
       "      <td>ef5f11f77ba020cd36e1105a00ab868bbdbf7fe7</td>\n",
       "    </tr>\n",
       "    <tr>\n",
       "      <th>1</th>\n",
       "      <td>2</td>\n",
       "      <td>1314</td>\n",
       "      <td>healthcare python streaming application demo</td>\n",
       "      <td>083cbdfa93c8444beaa4c5f5e0f5f9198e4f9e0b</td>\n",
       "    </tr>\n",
       "    <tr>\n",
       "      <th>2</th>\n",
       "      <td>3</td>\n",
       "      <td>1429</td>\n",
       "      <td>use deep learning for image classification</td>\n",
       "      <td>b96a4f2e92d8572034b1e9b28f9ac673765cd074</td>\n",
       "    </tr>\n",
       "    <tr>\n",
       "      <th>3</th>\n",
       "      <td>4</td>\n",
       "      <td>1338</td>\n",
       "      <td>ml optimization using cognitive assistant</td>\n",
       "      <td>06485706b34a5c9bf2a0ecdac41daf7e7654ceb7</td>\n",
       "    </tr>\n",
       "    <tr>\n",
       "      <th>4</th>\n",
       "      <td>5</td>\n",
       "      <td>1276</td>\n",
       "      <td>deploy your python model as a restful api</td>\n",
       "      <td>f01220c46fc92c6e6b161b1849de11faacd7ccb2</td>\n",
       "    </tr>\n",
       "  </tbody>\n",
       "</table>\n",
       "</div>"
      ],
      "text/plain": [
       "   user_id article_id                                              title  \\\n",
       "0        1       1430  using pixiedust for fast, flexible, and easier...   \n",
       "1        2       1314       healthcare python streaming application demo   \n",
       "2        3       1429         use deep learning for image classification   \n",
       "3        4       1338          ml optimization using cognitive assistant   \n",
       "4        5       1276          deploy your python model as a restful api   \n",
       "\n",
       "                                      email  \n",
       "0  ef5f11f77ba020cd36e1105a00ab868bbdbf7fe7  \n",
       "1  083cbdfa93c8444beaa4c5f5e0f5f9198e4f9e0b  \n",
       "2  b96a4f2e92d8572034b1e9b28f9ac673765cd074  \n",
       "3  06485706b34a5c9bf2a0ecdac41daf7e7654ceb7  \n",
       "4  f01220c46fc92c6e6b161b1849de11faacd7ccb2  "
      ]
     },
     "metadata": {},
     "execution_count": 5
    }
   ],
   "metadata": {}
  },
  {
   "cell_type": "code",
   "execution_count": 6,
   "source": [
    "interactions.info()"
   ],
   "outputs": [
    {
     "output_type": "stream",
     "name": "stdout",
     "text": [
      "<class 'pandas.core.frame.DataFrame'>\n",
      "RangeIndex: 45993 entries, 0 to 45992\n",
      "Data columns (total 4 columns):\n",
      " #   Column      Non-Null Count  Dtype \n",
      "---  ------      --------------  ----- \n",
      " 0   user_id     45993 non-null  int64 \n",
      " 1   article_id  45993 non-null  object\n",
      " 2   title       45993 non-null  object\n",
      " 3   email       45976 non-null  object\n",
      "dtypes: int64(1), object(3)\n",
      "memory usage: 1.4+ MB\n"
     ]
    }
   ],
   "metadata": {}
  },
  {
   "cell_type": "markdown",
   "source": [
    "### <a class=\"anchor\" id=\"Rank\">Part II: Rank-Based Recommendations</a>\n",
    "\n",
    "Unlike in the earlier lessons, we don't actually have ratings for whether a user liked an article or not.  We only know that a user has interacted with an article.  In these cases, the popularity of an article can really only be based on how often an article was interacted with.\n",
    "\n",
    "`1.` Fill in the function below to return the **n** top articles ordered with most interactions as the top. Test your function using the tests below."
   ],
   "metadata": {}
  },
  {
   "cell_type": "code",
   "execution_count": 7,
   "source": [
    "def get_top_articles(data, n):\r\n",
    "    '''\r\n",
    "    INPUT:\r\n",
    "    n - (int) the number of top articles to return\r\n",
    "    df - (pandas dataframe) df as defined at the top of the notebook \r\n",
    "    \r\n",
    "    OUTPUT:\r\n",
    "    top_articles - (list) A list of the top 'n' article titles \r\n",
    "    \r\n",
    "    '''\r\n",
    "\r\n",
    "    article_interacts = data \\\r\n",
    "        .groupby(by=[\"article_id\", \"title\"]) \\\r\n",
    "        .agg(interacts = (\"title\", \"count\")) \\\r\n",
    "        .reset_index() \\\r\n",
    "        .sort_values(by=\"interacts\", ascending = False)\r\n",
    "    \r\n",
    "    return article_interacts.title.head(n).tolist()\r\n",
    "\r\n",
    "def get_top_article_ids(data, n):\r\n",
    "    '''\r\n",
    "    INPUT:\r\n",
    "    n - (int) the number of top articles to return\r\n",
    "    df - (pandas dataframe) df as defined at the top of the notebook \r\n",
    "    \r\n",
    "    OUTPUT:\r\n",
    "    top_articles - (list) A list of the top 'n' article titles \r\n",
    "    \r\n",
    "    '''\r\n",
    "    \r\n",
    "    article_interacts = data \\\r\n",
    "        .groupby(by=[\"article_id\", \"title\"]) \\\r\n",
    "        .agg(interacts = (\"title\", \"count\")) \\\r\n",
    "        .reset_index() \\\r\n",
    "        .sort_values(by=\"interacts\", ascending = False)\r\n",
    "    \r\n",
    "    return article_interacts.article_id.head(n).tolist()"
   ],
   "outputs": [],
   "metadata": {
    "collapsed": true
   }
  },
  {
   "cell_type": "code",
   "execution_count": 8,
   "source": [
    "print(get_top_articles(interactions, 10))\r\n",
    "print(get_top_article_ids(interactions, 10))"
   ],
   "outputs": [
    {
     "output_type": "stream",
     "name": "stdout",
     "text": [
      "['use deep learning for image classification', 'insights from new york car accident reports', 'visualize car data with brunel', 'use xgboost, scikit-learn & ibm watson machine learning apis', 'predicting churn with the spss random tree algorithm', 'healthcare python streaming application demo', 'finding optimal locations of new store using decision optimization', 'apache spark lab, part 1: basic concepts', 'analyze energy consumption in buildings', 'gosales transactions for logistic regression model']\n",
      "['1429', '1330', '1431', '1427', '1364', '1314', '1293', '1170', '1162', '1304']\n"
     ]
    }
   ],
   "metadata": {
    "collapsed": true
   }
  },
  {
   "cell_type": "code",
   "execution_count": 9,
   "source": [
    "# Test your function by returning the top 5, 10, and 20 articles\r\n",
    "top_5 = get_top_articles(interactions, 5)\r\n",
    "top_10 = get_top_articles(interactions, 10)\r\n",
    "top_20 = get_top_articles(interactions, 20)\r\n",
    "\r\n",
    "# Test each of your three lists from above\r\n",
    "t.sol_2_test(get_top_articles, interactions)"
   ],
   "outputs": [
    {
     "output_type": "stream",
     "name": "stdout",
     "text": [
      "Your top_5 looks like the solution list! Nice job.\n",
      "Your top_10 looks like the solution list! Nice job.\n",
      "Your top_20 looks like the solution list! Nice job.\n"
     ]
    }
   ],
   "metadata": {
    "collapsed": true
   }
  },
  {
   "cell_type": "markdown",
   "source": [
    "### <a class=\"anchor\" id=\"User-User\">Part III: User-User Based Collaborative Filtering</a>\n",
    "\n",
    "\n",
    "`1.` Use the function below to reformat the **df** dataframe to be shaped with users as the rows and articles as the columns.  \n",
    "\n",
    "* Each **user** should only appear in each **row** once.\n",
    "\n",
    "\n",
    "* Each **article** should only show up in one **column**.  \n",
    "\n",
    "\n",
    "* **If a user has interacted with an article, then place a 1 where the user-row meets for that article-column**.  It does not matter how many times a user has interacted with the article, all entries where a user has interacted with an article should be a 1.  \n",
    "\n",
    "\n",
    "* **If a user has not interacted with an item, then place a zero where the user-row meets for that article-column**. \n",
    "\n",
    "Use the tests to make sure the basic structure of your matrix matches what is expected by the solution."
   ],
   "metadata": {}
  },
  {
   "cell_type": "code",
   "execution_count": 10,
   "source": [
    "# create the user-article matrix with 1's and 0's\r\n",
    "\r\n",
    "def create_user_item_matrix(data):\r\n",
    "    '''\r\n",
    "    INPUT:\r\n",
    "    df - pandas dataframe with article_id, title, user_id columns\r\n",
    "    \r\n",
    "    OUTPUT:\r\n",
    "    user_item - user item matrix \r\n",
    "    \r\n",
    "    Description:\r\n",
    "    Return a matrix with user ids as rows and article ids on the columns with 1 values where a user interacted with \r\n",
    "    an article and a 0 otherwise\r\n",
    "    '''\r\n",
    "\r\n",
    "    matrix = data[[\"user_id\", \"article_id\"]].groupby(by=[\"user_id\", \"article_id\"]).agg(lambda x: 1).unstack(fill_value = 0)\r\n",
    "    matrix\r\n",
    "    \r\n",
    "    return matrix\r\n",
    "\r\n",
    "user_item = create_user_item_matrix(interactions)"
   ],
   "outputs": [],
   "metadata": {
    "collapsed": true
   }
  },
  {
   "cell_type": "code",
   "execution_count": 11,
   "source": [
    "## Tests: You should just need to run this cell.  Don't change the code.\r\n",
    "assert user_item.shape[0] == 5149, \"Oops!  The number of users in the user-article matrix doesn't look right.\"\r\n",
    "assert user_item.shape[1] == 714, \"Oops!  The number of articles in the user-article matrix doesn't look right.\"\r\n",
    "assert user_item.sum(axis=1)[1] == 36, \"Oops!  The number of articles seen by user 1 doesn't look right.\"\r\n",
    "print(\"You have passed our quick tests!  Please proceed!\")"
   ],
   "outputs": [
    {
     "output_type": "stream",
     "name": "stdout",
     "text": [
      "You have passed our quick tests!  Please proceed!\n"
     ]
    }
   ],
   "metadata": {
    "collapsed": true
   }
  },
  {
   "cell_type": "markdown",
   "source": [
    "`2.` Complete the function below which should take a user_id and provide an ordered list of the most similar users to that user (from most similar to least similar).  The returned result should not contain the provided user_id, as we know that each user is similar to him/herself. Because the results for each user here are binary, it (perhaps) makes sense to compute similarity as the dot product of two users. \n",
    "\n",
    "Use the tests to test your function."
   ],
   "metadata": {}
  },
  {
   "cell_type": "code",
   "execution_count": 12,
   "source": [
    "def compute_similarities(data, user1, user2):\r\n",
    "    '''\r\n",
    "    INPUT:\r\n",
    "    user1 - (int) user id\r\n",
    "    user2 - (int) user id\r\n",
    "    data - (pandas dataframe) df as defined at the top of the notebook \r\n",
    "    \r\n",
    "    OUTPUT:\r\n",
    "    similarity - (float) similarity score between user1 and user2\r\n",
    "    \r\n",
    "    Description:\r\n",
    "    Compute the cosine similarity between two users based on the user-item matrix\r\n",
    "    '''\r\n",
    "    user1_articles = data.loc[user1][data.loc[user1] == 1].index.values\r\n",
    "    user2_articles = data.loc[user2][data.loc[user2] == 1].index.values\r\n",
    "    \r\n",
    "    common_articles = np.intersect1d(user1_articles, user2_articles, assume_unique=True)\r\n",
    "\r\n",
    "    # since it's just zeros and ones, we can just sum the common articles\r\n",
    "\r\n",
    "    return len(common_articles)\r\n",
    "    "
   ],
   "outputs": [],
   "metadata": {}
  },
  {
   "cell_type": "code",
   "execution_count": 13,
   "source": [
    "def find_similar_users(data, user_id, rec_num = 5):\r\n",
    "    '''\r\n",
    "    INPUT:\r\n",
    "    user_id - (int) a user_id\r\n",
    "    user_item - (pandas dataframe) matrix of users by articles: \r\n",
    "                1's when a user has interacted with an article, 0 otherwise\r\n",
    "    \r\n",
    "    OUTPUT:\r\n",
    "    similar_users - (list) an ordered list where the closest users (largest dot product users)\r\n",
    "                    are listed first\r\n",
    "    \r\n",
    "    Description:\r\n",
    "    Computes the similarity of every pair of users based on the dot product\r\n",
    "    Returns an ordered\r\n",
    "    \r\n",
    "    '''\r\n",
    "\r\n",
    "    most_similar_users = pd.DataFrame(\r\n",
    "        [[i, compute_similarities(data, user_id, i)] for i in data.index.values if i != user_id], \r\n",
    "        columns=[\"user_id\", \"similarity\"]\r\n",
    "    ) \\\r\n",
    "    .sort_values(by=\"similarity\", ascending=False) \\\r\n",
    "    .head(rec_num) \\\r\n",
    "    .user_id.tolist()\r\n",
    "\r\n",
    "    return most_similar_users \r\n",
    "        "
   ],
   "outputs": [],
   "metadata": {
    "collapsed": true
   }
  },
  {
   "cell_type": "code",
   "execution_count": 14,
   "source": [
    "# Do a spot check of your function\r\n",
    "print(\"The 10 most similar users to user 1 are: {}\".format(find_similar_users(user_item, 1, rec_num=10)))\r\n",
    "print(\"The 5 most similar users to user 3933 are: {}\".format(find_similar_users(user_item, 3933)))\r\n",
    "print(\"The 3 most similar users to user 46 are: {}\".format(find_similar_users(user_item, 46, rec_num=3)))"
   ],
   "outputs": [
    {
     "output_type": "stream",
     "name": "stdout",
     "text": [
      "The 10 most similar users to user 1 are: [3933, 23, 3782, 203, 4459, 3870, 131, 46, 4201, 395]\n",
      "The 5 most similar users to user 3933 are: [1, 23, 3782, 4459, 203]\n",
      "The 3 most similar users to user 46 are: [4201, 23, 3782]\n"
     ]
    }
   ],
   "metadata": {
    "collapsed": true
   }
  },
  {
   "cell_type": "markdown",
   "source": [
    "`3.` Now that you have a function that provides the most similar users to each user, you will want to use these users to find articles you can recommend.  Complete the functions below to return the articles you would recommend to each user. "
   ],
   "metadata": {}
  },
  {
   "cell_type": "code",
   "execution_count": 15,
   "source": [
    "def get_article_names(data, article_ids):\r\n",
    "    '''\r\n",
    "    INPUT:\r\n",
    "    article_ids - (list) a list of article ids\r\n",
    "    df - (pandas dataframe) df as defined at the top of the notebook\r\n",
    "    \r\n",
    "    OUTPUT:\r\n",
    "    article_names - (list) a list of article names associated with the list of article ids \r\n",
    "                    (this is identified by the title column)\r\n",
    "    '''\r\n",
    "\r\n",
    "    return data[data.article_id.isin(article_ids)].title.unique().tolist()\r\n",
    "\r\n",
    "\r\n",
    "def get_user_articles(data, user_id):\r\n",
    "    '''\r\n",
    "    INPUT:\r\n",
    "    user_id - (int) a user id\r\n",
    "    user_item - (pandas dataframe) matrix of users by articles: \r\n",
    "                1's when a user has interacted with an article, 0 otherwise\r\n",
    "    \r\n",
    "    OUTPUT:\r\n",
    "    article_ids - (list) a list of the article ids seen by the user\r\n",
    "    article_names - (list) a list of article names associated with the list of article ids \r\n",
    "                    (this is identified by the doc_full_name column in df_content)\r\n",
    "    \r\n",
    "    Description:\r\n",
    "    Provides a list of the article_ids and article titles that have been seen by a user\r\n",
    "    '''\r\n",
    "    num_interactions = data[[\"user_id\", \"article_id\", \"title\"]].groupby(\"article_id\").agg(count = (\"user_id\", \"count\")).reset_index()\r\n",
    "\r\n",
    "    user_articles = data[[\"user_id\", \"article_id\", \"title\"]][data.user_id == user_id].drop_duplicates()\r\n",
    "\r\n",
    "    sorted_articles = pd.merge(user_articles, num_interactions, on=\"article_id\").sort_values(by=\"count\", ascending=False)\r\n",
    "    \r\n",
    "\r\n",
    "    return sorted_articles.article_id.tolist(), sorted_articles.title.tolist() # return the ids and names\r\n",
    "\r\n",
    "\r\n",
    "def user_user_recs(data, user_id, rec_num=10):\r\n",
    "    '''\r\n",
    "    INPUT:\r\n",
    "    user_id - (int) a user id\r\n",
    "    m - (int) the number of recommendations you want for the user\r\n",
    "    \r\n",
    "    OUTPUT:\r\n",
    "    recs - (list) a list of recommendations for the user\r\n",
    "    \r\n",
    "    Description:\r\n",
    "    Loops through the users based on closeness to the input user_id\r\n",
    "    For each user - finds articles the user hasn't seen before and provides them as recs\r\n",
    "    Does this until m recommendations are found\r\n",
    "    \r\n",
    "    Notes:\r\n",
    "    Users who are the same closeness are chosen arbitrarily as the 'next' user\r\n",
    "    \r\n",
    "    For the user where the number of recommended articles starts below m \r\n",
    "    and ends exceeding m, the last items are chosen arbitrarily\r\n",
    "    \r\n",
    "    '''\r\n",
    "\r\n",
    "    recs = []    \r\n",
    "    matrix = create_user_item_matrix(data)\r\n",
    "    user_articles = get_user_articles(data, user_id)[0]\r\n",
    "    similar_users = find_similar_users(matrix, user_id)\r\n",
    "\r\n",
    "    for user in similar_users:\r\n",
    "        articles = get_user_articles(data, user)[0]\r\n",
    "        for article in articles:\r\n",
    "            if article not in user_articles and article not in recs:\r\n",
    "                recs.append(article)\r\n",
    "                if len(recs) == rec_num:\r\n",
    "                    return recs\r\n",
    "    \r\n",
    "    return recs # return even if rec_num is not met"
   ],
   "outputs": [],
   "metadata": {
    "collapsed": true
   }
  },
  {
   "cell_type": "code",
   "execution_count": 16,
   "source": [
    "# Check Results\r\n",
    "get_article_names(interactions, user_user_recs(interactions, 1, 10)) # Return 10 recommendations for user 1"
   ],
   "outputs": [
    {
     "output_type": "execute_result",
     "data": {
      "text/plain": [
       "['healthcare python streaming application demo',\n",
       " 'ml optimization using cognitive assistant',\n",
       " 'the nurse assignment problem',\n",
       " 'predicting churn with the spss random tree algorithm',\n",
       " 'analyze energy consumption in buildings',\n",
       " 'gosales transactions for logistic regression model',\n",
       " 'insights from new york car accident reports',\n",
       " 'model bike sharing data with spss',\n",
       " 'analyze accident reports on amazon emr spark',\n",
       " 'movie recommender system with spark machine learning']"
      ]
     },
     "metadata": {},
     "execution_count": 16
    }
   ],
   "metadata": {
    "collapsed": true
   }
  },
  {
   "cell_type": "code",
   "execution_count": 17,
   "source": [
    "# Test your functions here - No need to change this code - just run this cell\r\n",
    "assert set(get_article_names(interactions, ['1024', '1176', '1305', '1314', '1422', '1427'])) == set(['using deep learning to reconstruct high-resolution audio', 'build a python app on the streaming analytics service', 'gosales transactions for naive bayes model', 'healthcare python streaming application demo', 'use r dataframes & ibm watson natural language understanding', 'use xgboost, scikit-learn & ibm watson machine learning apis']), \"Oops! Your the get_article_names function doesn't work quite how we expect.\"\r\n",
    "assert set(get_article_names(interactions, ['1320', '232', '844'])) == set(['housing (2015): united states demographic measures','self-service data preparation with ibm data refinery','use the cloudant-spark connector in python notebook']), \"Oops! Your the get_article_names function doesn't work quite how we expect.\"\r\n",
    "assert set(get_user_articles(interactions, 20)[0]) == set(['1320', '232', '844'])\r\n",
    "assert set(get_user_articles(interactions, 20)[1]) == set(['housing (2015): united states demographic measures', 'self-service data preparation with ibm data refinery','use the cloudant-spark connector in python notebook'])\r\n",
    "assert set(get_user_articles(interactions, 2)[0]) == set(['1024', '1176', '1305', '1314', '1422', '1427'])\r\n",
    "assert set(get_user_articles(interactions, 2)[1]) == set(['using deep learning to reconstruct high-resolution audio', 'build a python app on the streaming analytics service', 'gosales transactions for naive bayes model', 'healthcare python streaming application demo', 'use r dataframes & ibm watson natural language understanding', 'use xgboost, scikit-learn & ibm watson machine learning apis'])\r\n",
    "print(\"If this is all you see, you passed all of our tests!  Nice job!\")"
   ],
   "outputs": [
    {
     "output_type": "stream",
     "name": "stdout",
     "text": [
      "If this is all you see, you passed all of our tests!  Nice job!\n"
     ]
    }
   ],
   "metadata": {
    "collapsed": true
   }
  },
  {
   "cell_type": "markdown",
   "source": [
    "`4.` Now we are going to improve the consistency of the **user_user_recs** function from above.  \n",
    "\n",
    "* Instead of arbitrarily choosing when we obtain users who are all the same closeness to a given user - choose the users that have the most total article interactions before choosing those with fewer article interactions.\n",
    "\n",
    "\n",
    "* Instead of arbitrarily choosing articles from the user where the number of recommended articles starts below m and ends exceeding m, choose articles with the articles with the most total interactions before choosing those with fewer total interactions. This ranking should be  what would be obtained from the **top_articles** function you wrote earlier."
   ],
   "metadata": {}
  },
  {
   "cell_type": "code",
   "execution_count": 18,
   "source": [
    "def get_top_sorted_users(data, user_id):\r\n",
    "    '''\r\n",
    "    INPUT:\r\n",
    "    user_id - (int)\r\n",
    "    df - (pandas dataframe) df as defined at the top of the notebook \r\n",
    "    user_item - (pandas dataframe) matrix of users by articles: \r\n",
    "            1's when a user has interacted with an article, 0 otherwise\r\n",
    "    \r\n",
    "            \r\n",
    "    OUTPUT:\r\n",
    "    neighbors_df - (pandas dataframe) a dataframe with:\r\n",
    "                    neighbor_id - is a neighbor user_id\r\n",
    "                    similarity - measure of the similarity of each user to the provided user_id\r\n",
    "                    num_interactions - the number of articles viewed by the user - if a u\r\n",
    "                    \r\n",
    "    Other Details - sort the neighbors_df by the similarity and then by number of interactions where \r\n",
    "                    highest of each is higher in the dataframe\r\n",
    "     \r\n",
    "    '''\r\n",
    "    matrix = create_user_item_matrix(data)\r\n",
    "\r\n",
    "    neighbors_df = pd.DataFrame(\r\n",
    "        [[i, compute_similarities(matrix, user_id, i)] for i in matrix.index.values if i != user_id], \r\n",
    "        columns=[\"neighbor_id\", \"similarity\"]\r\n",
    "    ) \\\r\n",
    "    .sort_values(by=\"similarity\", ascending=False) \r\n",
    "\r\n",
    "    \r\n",
    "    neighbors_df[\"num_interactions\"]  = neighbors_df.neighbor_id.apply(lambda x: len(data[data.user_id == x]))\r\n",
    "    neighbors_df = neighbors_df.sort_values(by=[\"similarity\", \"num_interactions\"], ascending=False)\r\n",
    "    \r\n",
    "    return neighbors_df # Return the dataframe specified in the doc_string\r\n",
    "\r\n",
    "\r\n",
    "def user_user_recs_part2(data, user_id, rec_num=10):\r\n",
    "    '''\r\n",
    "    INPUT:\r\n",
    "    user_id - (int) a user id\r\n",
    "    m - (int) the number of recommendations you want for the user\r\n",
    "    \r\n",
    "    OUTPUT:\r\n",
    "    recs - (list) a list of recommendations for the user by article id\r\n",
    "    rec_names - (list) a list of recommendations for the user by article title\r\n",
    "    \r\n",
    "    Description:\r\n",
    "    Loops through the users based on closeness to the input user_id\r\n",
    "    For each user - finds articles the user hasn't seen before and provides them as recs\r\n",
    "    Does this until m recommendations are found\r\n",
    "    \r\n",
    "    Notes:\r\n",
    "    * Choose the users that have the most total article interactions \r\n",
    "    before choosing those with fewer article interactions.\r\n",
    "\r\n",
    "    * Choose articles with the articles with the most total interactions \r\n",
    "    before choosing those with fewer total interactions. \r\n",
    "   \r\n",
    "    '''\r\n",
    "\r\n",
    "    recs = []    \r\n",
    "    user_articles = get_user_articles(data, user_id)[0]\r\n",
    "    similar_users = get_top_sorted_users(data, user_id)\r\n",
    "\r\n",
    "    for user in similar_users.neighbor_id:\r\n",
    "        articles = get_user_articles(data, user)[0]\r\n",
    "\r\n",
    "        for article in articles:\r\n",
    "            if article not in user_articles and article not in recs:\r\n",
    "                recs.append(article)\r\n",
    "                if len(recs) == rec_num:\r\n",
    "                    break\r\n",
    "        \r\n",
    "        if len(recs) == rec_num:\r\n",
    "            break\r\n",
    "    \r\n",
    "    return recs, get_article_names(data, recs)"
   ],
   "outputs": [],
   "metadata": {
    "collapsed": true
   }
  },
  {
   "cell_type": "code",
   "execution_count": 19,
   "source": [
    "# Quick spot check - don't change this code - just use it to test your functions\r\n",
    "rec_ids, rec_names = user_user_recs_part2(interactions, 20, 10)\r\n",
    "print(\"The top 10 recommendations for user 20 are the following article ids:\")\r\n",
    "print(rec_ids)\r\n",
    "print()\r\n",
    "print(\"The top 10 recommendations for user 20 are the following article names:\")\r\n",
    "print(rec_names)"
   ],
   "outputs": [
    {
     "output_type": "stream",
     "name": "stdout",
     "text": [
      "The top 10 recommendations for user 20 are the following article ids:\n",
      "['1330', '1427', '1364', '1170', '1162', '1304', '1351', '1160', '1354', '1368']\n",
      "\n",
      "The top 10 recommendations for user 20 are the following article names:\n",
      "['apache spark lab, part 1: basic concepts', 'predicting churn with the spss random tree algorithm', 'analyze energy consumption in buildings', 'use xgboost, scikit-learn & ibm watson machine learning apis', 'putting a human face on machine learning', 'gosales transactions for logistic regression model', 'insights from new york car accident reports', 'model bike sharing data with spss', 'analyze accident reports on amazon emr spark', 'movie recommender system with spark machine learning']\n"
     ]
    }
   ],
   "metadata": {
    "collapsed": true
   }
  },
  {
   "cell_type": "markdown",
   "source": [
    "`5.` Use your functions from above to correctly fill in the solutions to the dictionary below.  Then test your dictionary against the solution.  Provide the code you need to answer each following the comments below."
   ],
   "metadata": {}
  },
  {
   "cell_type": "code",
   "execution_count": 20,
   "source": [
    "### Tests with a dictionary of results\r\n",
    "\r\n",
    "user1_most_sim = get_top_sorted_users(interactions, 1).iloc[0].neighbor_id # Find the user that is most similar to user 1 \r\n",
    "user131_10th_sim = get_top_sorted_users(interactions, 131).iloc[9].neighbor_id # Find the 10th most similar user to user 131"
   ],
   "outputs": [],
   "metadata": {
    "collapsed": true
   }
  },
  {
   "cell_type": "code",
   "execution_count": 21,
   "source": [
    "## Dictionary Test Here\r\n",
    "sol_5_dict = {\r\n",
    "    'The user that is most similar to user 1.': user1_most_sim, \r\n",
    "    'The user that is the 10th most similar to user 131': user131_10th_sim,\r\n",
    "}\r\n",
    "\r\n",
    "t.sol_5_test(sol_5_dict)"
   ],
   "outputs": [
    {
     "output_type": "stream",
     "name": "stdout",
     "text": [
      "This all looks good!  Nice job!\n"
     ]
    }
   ],
   "metadata": {
    "collapsed": true
   }
  },
  {
   "cell_type": "markdown",
   "source": [
    "`6.` If we were given a new user, which of the above functions would you be able to use to make recommendations?  Explain.  Can you think of a better way we might make recommendations?  Use the cell below to explain a better method for new users."
   ],
   "metadata": {}
  },
  {
   "cell_type": "markdown",
   "source": [
    "**Provide your response here.**\r\n",
    "\r\n",
    "For new users, we can either provide the rank based recommendation, or retrieve some profile of the new user and find similar users based on those profile. This is however possible if that data is available.\r\n",
    "\r\n",
    "We can also extract some features from articles body or description and find things related."
   ],
   "metadata": {}
  },
  {
   "cell_type": "markdown",
   "source": [
    "`7.` Using your existing functions, provide the top 10 recommended articles you would provide for the a new user below.  You can test your function against our thoughts to make sure we are all on the same page with how we might make a recommendation."
   ],
   "metadata": {}
  },
  {
   "cell_type": "code",
   "execution_count": 22,
   "source": [
    "new_user = '0.0'\r\n",
    "\r\n",
    "# What would your recommendations be for this new user '0.0'?  As a new user, they have no observed articles.\r\n",
    "# Provide a list of the top 10 article ids you would give to \r\n",
    "new_user_recs = get_top_article_ids(interactions, 10)"
   ],
   "outputs": [],
   "metadata": {
    "collapsed": true
   }
  },
  {
   "cell_type": "code",
   "execution_count": 23,
   "source": [
    "assert set(new_user_recs) == set(['1314','1429','1293','1427','1162','1364','1304','1170','1431','1330']), \"Oops!  It makes sense that in this case we would want to recommend the most popular articles, because we don't know anything about these users.\"\r\n",
    "\r\n",
    "print(\"That's right!  Nice job!\")"
   ],
   "outputs": [
    {
     "output_type": "stream",
     "name": "stdout",
     "text": [
      "That's right!  Nice job!\n"
     ]
    }
   ],
   "metadata": {
    "collapsed": true
   }
  },
  {
   "cell_type": "markdown",
   "source": [
    "### <a class=\"anchor\" id=\"Content-Recs\">Part IV: Content Based Recommendations (EXTRA - NOT REQUIRED)</a>\n",
    "\n",
    "Another method we might use to make recommendations is to perform a ranking of the highest ranked articles associated with some term.  You might consider content to be the **doc_body**, **doc_description**, or **doc_full_name**.  There isn't one way to create a content based recommendation, especially considering that each of these columns hold content related information.  \n",
    "\n",
    "`1.` Use the function body below to create a content based recommender.  Since there isn't one right answer for this recommendation tactic, no test functions are provided.  Feel free to change the function inputs if you decide you want to try a method that requires more input values.  The input values are currently set with one idea in mind that you may use to make content based recommendations.  One additional idea is that you might want to choose the most popular recommendations that meet your 'content criteria', but again, there is a lot of flexibility in how you might make these recommendations.\n",
    "\n",
    "### This part is NOT REQUIRED to pass this project.  However, you may choose to take this on as an extra way to show off your skills."
   ],
   "metadata": {}
  },
  {
   "cell_type": "code",
   "execution_count": 24,
   "source": [
    "def make_content_recs():\r\n",
    "    '''\r\n",
    "    INPUT:\r\n",
    "    \r\n",
    "    OUTPUT:\r\n",
    "    \r\n",
    "    '''"
   ],
   "outputs": [],
   "metadata": {
    "collapsed": true
   }
  },
  {
   "cell_type": "markdown",
   "source": [
    "`2.` Now that you have put together your content-based recommendation system, use the cell below to write a summary explaining how your content based recommender works.  Do you see any possible improvements that could be made to your function?  Is there anything novel about your content based recommender?\n",
    "\n",
    "### This part is NOT REQUIRED to pass this project.  However, you may choose to take this on as an extra way to show off your skills."
   ],
   "metadata": {}
  },
  {
   "cell_type": "markdown",
   "source": [
    "**Write an explanation of your content based recommendation system here.**"
   ],
   "metadata": {}
  },
  {
   "cell_type": "markdown",
   "source": [
    "`3.` Use your content-recommendation system to make recommendations for the below scenarios based on the comments.  Again no tests are provided here, because there isn't one right answer that could be used to find these content based recommendations.\n",
    "\n",
    "### This part is NOT REQUIRED to pass this project.  However, you may choose to take this on as an extra way to show off your skills."
   ],
   "metadata": {}
  },
  {
   "cell_type": "code",
   "execution_count": 25,
   "source": [
    "# make recommendations for a brand new user\r\n",
    "\r\n",
    "\r\n",
    "# make a recommendations for a user who only has interacted with article id '1427.0'\r\n",
    "\r\n"
   ],
   "outputs": [],
   "metadata": {
    "collapsed": true
   }
  },
  {
   "cell_type": "markdown",
   "source": [
    "### <a class=\"anchor\" id=\"Matrix-Fact\">Part V: Matrix Factorization</a>\n",
    "\n",
    "In this part of the notebook, you will build use matrix factorization to make article recommendations to the users on the IBM Watson Studio platform.\n",
    "\n",
    "`1.` You should have already created a **user_item** matrix above in **question 1** of **Part III** above.  This first question here will just require that you run the cells to get things set up for the rest of **Part V** of the notebook. "
   ],
   "metadata": {}
  },
  {
   "cell_type": "code",
   "execution_count": 26,
   "source": [
    "# Load the matrix here\r\n",
    "user_item_matrix = pd.read_pickle('../models/user_item_matrix.p')"
   ],
   "outputs": [],
   "metadata": {
    "collapsed": true
   }
  },
  {
   "cell_type": "code",
   "execution_count": 27,
   "source": [
    "# quick look at the matrix\r\n",
    "user_item_matrix.head()"
   ],
   "outputs": [
    {
     "output_type": "execute_result",
     "data": {
      "text/html": [
       "<div>\n",
       "<style scoped>\n",
       "    .dataframe tbody tr th:only-of-type {\n",
       "        vertical-align: middle;\n",
       "    }\n",
       "\n",
       "    .dataframe tbody tr th {\n",
       "        vertical-align: top;\n",
       "    }\n",
       "\n",
       "    .dataframe thead th {\n",
       "        text-align: right;\n",
       "    }\n",
       "</style>\n",
       "<table border=\"1\" class=\"dataframe\">\n",
       "  <thead>\n",
       "    <tr style=\"text-align: right;\">\n",
       "      <th>article_id</th>\n",
       "      <th>0.0</th>\n",
       "      <th>100.0</th>\n",
       "      <th>1000.0</th>\n",
       "      <th>1004.0</th>\n",
       "      <th>1006.0</th>\n",
       "      <th>1008.0</th>\n",
       "      <th>101.0</th>\n",
       "      <th>1014.0</th>\n",
       "      <th>1015.0</th>\n",
       "      <th>1016.0</th>\n",
       "      <th>...</th>\n",
       "      <th>977.0</th>\n",
       "      <th>98.0</th>\n",
       "      <th>981.0</th>\n",
       "      <th>984.0</th>\n",
       "      <th>985.0</th>\n",
       "      <th>986.0</th>\n",
       "      <th>990.0</th>\n",
       "      <th>993.0</th>\n",
       "      <th>996.0</th>\n",
       "      <th>997.0</th>\n",
       "    </tr>\n",
       "    <tr>\n",
       "      <th>user_id</th>\n",
       "      <th></th>\n",
       "      <th></th>\n",
       "      <th></th>\n",
       "      <th></th>\n",
       "      <th></th>\n",
       "      <th></th>\n",
       "      <th></th>\n",
       "      <th></th>\n",
       "      <th></th>\n",
       "      <th></th>\n",
       "      <th></th>\n",
       "      <th></th>\n",
       "      <th></th>\n",
       "      <th></th>\n",
       "      <th></th>\n",
       "      <th></th>\n",
       "      <th></th>\n",
       "      <th></th>\n",
       "      <th></th>\n",
       "      <th></th>\n",
       "      <th></th>\n",
       "    </tr>\n",
       "  </thead>\n",
       "  <tbody>\n",
       "    <tr>\n",
       "      <th>1</th>\n",
       "      <td>0.0</td>\n",
       "      <td>0.0</td>\n",
       "      <td>0.0</td>\n",
       "      <td>0.0</td>\n",
       "      <td>0.0</td>\n",
       "      <td>0.0</td>\n",
       "      <td>0.0</td>\n",
       "      <td>0.0</td>\n",
       "      <td>0.0</td>\n",
       "      <td>0.0</td>\n",
       "      <td>...</td>\n",
       "      <td>0.0</td>\n",
       "      <td>0.0</td>\n",
       "      <td>1.0</td>\n",
       "      <td>0.0</td>\n",
       "      <td>0.0</td>\n",
       "      <td>0.0</td>\n",
       "      <td>0.0</td>\n",
       "      <td>0.0</td>\n",
       "      <td>0.0</td>\n",
       "      <td>0.0</td>\n",
       "    </tr>\n",
       "    <tr>\n",
       "      <th>2</th>\n",
       "      <td>0.0</td>\n",
       "      <td>0.0</td>\n",
       "      <td>0.0</td>\n",
       "      <td>0.0</td>\n",
       "      <td>0.0</td>\n",
       "      <td>0.0</td>\n",
       "      <td>0.0</td>\n",
       "      <td>0.0</td>\n",
       "      <td>0.0</td>\n",
       "      <td>0.0</td>\n",
       "      <td>...</td>\n",
       "      <td>0.0</td>\n",
       "      <td>0.0</td>\n",
       "      <td>0.0</td>\n",
       "      <td>0.0</td>\n",
       "      <td>0.0</td>\n",
       "      <td>0.0</td>\n",
       "      <td>0.0</td>\n",
       "      <td>0.0</td>\n",
       "      <td>0.0</td>\n",
       "      <td>0.0</td>\n",
       "    </tr>\n",
       "    <tr>\n",
       "      <th>3</th>\n",
       "      <td>0.0</td>\n",
       "      <td>0.0</td>\n",
       "      <td>0.0</td>\n",
       "      <td>0.0</td>\n",
       "      <td>0.0</td>\n",
       "      <td>0.0</td>\n",
       "      <td>0.0</td>\n",
       "      <td>0.0</td>\n",
       "      <td>0.0</td>\n",
       "      <td>0.0</td>\n",
       "      <td>...</td>\n",
       "      <td>1.0</td>\n",
       "      <td>0.0</td>\n",
       "      <td>0.0</td>\n",
       "      <td>0.0</td>\n",
       "      <td>0.0</td>\n",
       "      <td>0.0</td>\n",
       "      <td>0.0</td>\n",
       "      <td>0.0</td>\n",
       "      <td>0.0</td>\n",
       "      <td>0.0</td>\n",
       "    </tr>\n",
       "    <tr>\n",
       "      <th>4</th>\n",
       "      <td>0.0</td>\n",
       "      <td>0.0</td>\n",
       "      <td>0.0</td>\n",
       "      <td>0.0</td>\n",
       "      <td>0.0</td>\n",
       "      <td>0.0</td>\n",
       "      <td>0.0</td>\n",
       "      <td>0.0</td>\n",
       "      <td>0.0</td>\n",
       "      <td>0.0</td>\n",
       "      <td>...</td>\n",
       "      <td>0.0</td>\n",
       "      <td>0.0</td>\n",
       "      <td>0.0</td>\n",
       "      <td>0.0</td>\n",
       "      <td>0.0</td>\n",
       "      <td>0.0</td>\n",
       "      <td>0.0</td>\n",
       "      <td>0.0</td>\n",
       "      <td>0.0</td>\n",
       "      <td>0.0</td>\n",
       "    </tr>\n",
       "    <tr>\n",
       "      <th>5</th>\n",
       "      <td>0.0</td>\n",
       "      <td>0.0</td>\n",
       "      <td>0.0</td>\n",
       "      <td>0.0</td>\n",
       "      <td>0.0</td>\n",
       "      <td>0.0</td>\n",
       "      <td>0.0</td>\n",
       "      <td>0.0</td>\n",
       "      <td>0.0</td>\n",
       "      <td>0.0</td>\n",
       "      <td>...</td>\n",
       "      <td>0.0</td>\n",
       "      <td>0.0</td>\n",
       "      <td>0.0</td>\n",
       "      <td>0.0</td>\n",
       "      <td>0.0</td>\n",
       "      <td>0.0</td>\n",
       "      <td>0.0</td>\n",
       "      <td>0.0</td>\n",
       "      <td>0.0</td>\n",
       "      <td>0.0</td>\n",
       "    </tr>\n",
       "  </tbody>\n",
       "</table>\n",
       "<p>5 rows × 714 columns</p>\n",
       "</div>"
      ],
      "text/plain": [
       "article_id  0.0  100.0  1000.0  1004.0  1006.0  1008.0  101.0  1014.0  1015.0  \\\n",
       "user_id                                                                         \n",
       "1           0.0    0.0     0.0     0.0     0.0     0.0    0.0     0.0     0.0   \n",
       "2           0.0    0.0     0.0     0.0     0.0     0.0    0.0     0.0     0.0   \n",
       "3           0.0    0.0     0.0     0.0     0.0     0.0    0.0     0.0     0.0   \n",
       "4           0.0    0.0     0.0     0.0     0.0     0.0    0.0     0.0     0.0   \n",
       "5           0.0    0.0     0.0     0.0     0.0     0.0    0.0     0.0     0.0   \n",
       "\n",
       "article_id  1016.0  ...  977.0  98.0  981.0  984.0  985.0  986.0  990.0  \\\n",
       "user_id             ...                                                   \n",
       "1              0.0  ...    0.0   0.0    1.0    0.0    0.0    0.0    0.0   \n",
       "2              0.0  ...    0.0   0.0    0.0    0.0    0.0    0.0    0.0   \n",
       "3              0.0  ...    1.0   0.0    0.0    0.0    0.0    0.0    0.0   \n",
       "4              0.0  ...    0.0   0.0    0.0    0.0    0.0    0.0    0.0   \n",
       "5              0.0  ...    0.0   0.0    0.0    0.0    0.0    0.0    0.0   \n",
       "\n",
       "article_id  993.0  996.0  997.0  \n",
       "user_id                          \n",
       "1             0.0    0.0    0.0  \n",
       "2             0.0    0.0    0.0  \n",
       "3             0.0    0.0    0.0  \n",
       "4             0.0    0.0    0.0  \n",
       "5             0.0    0.0    0.0  \n",
       "\n",
       "[5 rows x 714 columns]"
      ]
     },
     "metadata": {},
     "execution_count": 27
    }
   ],
   "metadata": {
    "collapsed": true
   }
  },
  {
   "cell_type": "markdown",
   "source": [
    "`2.` In this situation, you can use Singular Value Decomposition from [numpy](https://docs.scipy.org/doc/numpy-1.14.0/reference/generated/numpy.linalg.svd.html) on the user-item matrix.  Use the cell to perform SVD, and explain why this is different than in the lesson."
   ],
   "metadata": {}
  },
  {
   "cell_type": "code",
   "execution_count": 28,
   "source": [
    "# Perform SVD on the User-Item Matrix Here\r\n",
    "\r\n",
    "u, s, vt = np.linalg.svd(user_item_matrix)\r\n",
    "u.shape, s.shape, vt.shape"
   ],
   "outputs": [
    {
     "output_type": "execute_result",
     "data": {
      "text/plain": [
       "((5149, 5149), (714,), (714, 714))"
      ]
     },
     "metadata": {},
     "execution_count": 28
    }
   ],
   "metadata": {
    "collapsed": true
   }
  },
  {
   "cell_type": "markdown",
   "source": [
    "**Provide your response here.**\r\n",
    "\r\n",
    "Since the matrix has no NaN and the zeroes are valid value, we can make use of SVD."
   ],
   "metadata": {}
  },
  {
   "cell_type": "markdown",
   "source": [
    "`3.` Now for the tricky part, how do we choose the number of latent features to use?  Running the below cell, you can see that as the number of latent features increases, we obtain a lower error rate on making predictions for the 1 and 0 values in the user-item matrix.  Run the cell below to get an idea of how the accuracy improves as we increase the number of latent features."
   ],
   "metadata": {}
  },
  {
   "cell_type": "code",
   "execution_count": 29,
   "source": [
    "num_latent_feats = np.arange(10,700+10,20)\r\n",
    "sum_errs = []\r\n",
    "\r\n",
    "for k in num_latent_feats:\r\n",
    "    # restructure with k latent features\r\n",
    "    s_new, u_new, vt_new = np.diag(s[:k]), u[:, :k], vt[:k, :]\r\n",
    "    \r\n",
    "    # take dot product\r\n",
    "    user_item_est = np.around(np.dot(np.dot(u_new, s_new), vt_new))\r\n",
    "    \r\n",
    "    # compute error for each prediction to actual value\r\n",
    "    diffs = np.subtract(user_item_matrix, user_item_est)\r\n",
    "    \r\n",
    "    # total errors and keep track of them\r\n",
    "    err = np.sum(np.sum(np.abs(diffs)))\r\n",
    "    sum_errs.append(err)\r\n",
    "\r\n",
    "\r\n",
    "total_int = user_item_matrix.sum().sum() # since regardless of how many interactions, they are set to 1\r\n",
    "\r\n",
    "print(total_int)\r\n",
    "print(sum_errs)\r\n",
    "    \r\n",
    "plt.plot(num_latent_feats, 1 - np.array(sum_errs)/total_int);\r\n",
    "plt.xlabel('Number of Latent Features');\r\n",
    "plt.ylabel('Accuracy');\r\n",
    "plt.title('Accuracy vs. Number of Latent Features');"
   ],
   "outputs": [
    {
     "output_type": "stream",
     "name": "stdout",
     "text": [
      "33682.0\n",
      "[30589.0, 24138.0, 20143.0, 16495.0, 13596.0, 11457.0, 9541.0, 7850.0, 6616.0, 5654.0, 4748.0, 3945.0, 3329.0, 2759.0, 2328.0, 1932.0, 1629.0, 1327.0, 1089.0, 861.0, 719.0, 564.0, 455.0, 345.0, 259.0, 184.0, 148.0, 97.0, 64.0, 41.0, 19.0, 15.0, 2.0, 0.0, 0.0]\n"
     ]
    },
    {
     "output_type": "display_data",
     "data": {
      "image/png": "[encoded data removed]",
      "text/plain": [
       "<Figure size 432x288 with 1 Axes>"
      ]
     },
     "metadata": {
      "needs_background": "light"
     }
    }
   ],
   "metadata": {
    "collapsed": true
   }
  },
  {
   "cell_type": "markdown",
   "source": [
    "`4.` From the above, we can't really be sure how many features to use, because simply having a better way to predict the 1's and 0's of the matrix doesn't exactly give us an indication of if we are able to make good recommendations.  Instead, we might split our dataset into a training and test set of data, as shown in the cell below.  \n",
    "\n",
    "Use the code from question 3 to understand the impact on accuracy of the training and test sets of data with different numbers of latent features. Using the split below: \n",
    "\n",
    "* How many users can we make predictions for in the test set?  \n",
    "* How many users are we not able to make predictions for because of the cold start problem?\n",
    "* How many articles can we make predictions for in the test set?  \n",
    "* How many articles are we not able to make predictions for because of the cold start problem?"
   ],
   "metadata": {}
  },
  {
   "cell_type": "code",
   "execution_count": 30,
   "source": [
    "\r\n",
    "interactions_train = interactions.head(40000)\r\n",
    "interactions_test = interactions.tail(5993)"
   ],
   "outputs": [],
   "metadata": {}
  },
  {
   "cell_type": "code",
   "execution_count": 31,
   "source": [
    "def create_test_and_train_user_item(df_train, df_test):\r\n",
    "    '''\r\n",
    "    INPUT:\r\n",
    "    df_train - training dataframe\r\n",
    "    df_test - test dataframe\r\n",
    "    \r\n",
    "    OUTPUT:\r\n",
    "    user_item_train - a user-item matrix of the training dataframe \r\n",
    "                      (unique users for each row and unique articles for each column)\r\n",
    "    user_item_test - a user-item matrix of the testing dataframe \r\n",
    "                    (unique users for each row and unique articles for each column)\r\n",
    "    test_idx - all of the test user ids\r\n",
    "    test_arts - all of the test article ids\r\n",
    "    \r\n",
    "    '''\r\n",
    "\r\n",
    "    user_item_train = create_user_item_matrix(df_train)\r\n",
    "    user_item_test = create_user_item_matrix(df_test)\r\n",
    "\r\n",
    "    test_idx = user_item_test.index.tolist()\r\n",
    "    test_arts = user_item_test.columns.tolist()\r\n",
    "\r\n",
    "    \r\n",
    "    return user_item_train, user_item_test, test_idx, test_arts\r\n",
    "\r\n",
    "user_item_train, user_item_test, test_idx, test_arts = create_test_and_train_user_item(interactions_train, interactions_test)"
   ],
   "outputs": [],
   "metadata": {
    "collapsed": true
   }
  },
  {
   "cell_type": "code",
   "execution_count": 32,
   "source": [
    "_test_users_in_train = len(np.intersect1d(user_item_train.index, user_item_test.index))\r\n",
    "_test_users_in_train"
   ],
   "outputs": [
    {
     "output_type": "execute_result",
     "data": {
      "text/plain": [
       "20"
      ]
     },
     "metadata": {},
     "execution_count": 32
    }
   ],
   "metadata": {}
  },
  {
   "cell_type": "code",
   "execution_count": 33,
   "source": [
    "_test_users_not_in_train = len(test_idx) - _test_users_in_train\r\n",
    "_test_users_not_in_train"
   ],
   "outputs": [
    {
     "output_type": "execute_result",
     "data": {
      "text/plain": [
       "662"
      ]
     },
     "metadata": {},
     "execution_count": 33
    }
   ],
   "metadata": {}
  },
  {
   "cell_type": "code",
   "execution_count": 34,
   "source": [
    "_test_art_in_train = len(np.intersect1d(user_item_train.columns, user_item_test.columns))\r\n",
    "_test_art_in_train"
   ],
   "outputs": [
    {
     "output_type": "execute_result",
     "data": {
      "text/plain": [
       "574"
      ]
     },
     "metadata": {},
     "execution_count": 34
    }
   ],
   "metadata": {}
  },
  {
   "cell_type": "code",
   "execution_count": 35,
   "source": [
    "_test_art_not_in_train = len(user_item_test.columns) - _test_art_in_train\r\n",
    "_test_art_not_in_train"
   ],
   "outputs": [
    {
     "output_type": "execute_result",
     "data": {
      "text/plain": [
       "0"
      ]
     },
     "metadata": {},
     "execution_count": 35
    }
   ],
   "metadata": {}
  },
  {
   "cell_type": "code",
   "execution_count": 36,
   "source": [
    "# Replace the values in the dictionary below\r\n",
    "a = 662 \r\n",
    "b = 574 \r\n",
    "c = 20 \r\n",
    "d = 0 \r\n",
    "\r\n",
    "\r\n",
    "sol_4_dict = {\r\n",
    "    'How many users can we make predictions for in the test set?': c, # letter here, \r\n",
    "    'How many users in the test set are we not able to make predictions for because of the cold start problem?': a, # letter here, \r\n",
    "    'How many articles can we make predictions for in the test set?': b, # letter here,\r\n",
    "    'How many articles in the test set are we not able to make predictions for because of the cold start problem?': d# letter here\r\n",
    "}\r\n",
    "\r\n",
    "t.sol_4_test(sol_4_dict)"
   ],
   "outputs": [
    {
     "output_type": "stream",
     "name": "stdout",
     "text": [
      "Awesome job!  That's right!  All of the test articles are in the training data, but there are only 20 test users that were also in the training set.  All of the other users that are in the test set we have no data on.  Therefore, we cannot make predictions for these users using SVD.\n"
     ]
    }
   ],
   "metadata": {
    "collapsed": true
   }
  },
  {
   "cell_type": "markdown",
   "source": [
    "`5.` Now use the **user_item_train** dataset from above to find U, S, and V transpose using SVD. Then find the subset of rows in the **user_item_test** dataset that you can predict using this matrix decomposition with different numbers of latent features to see how many features makes sense to keep based on the accuracy on the test data. This will require combining what was done in questions `2` - `4`.\n",
    "\n",
    "Use the cells below to explore how well SVD works towards making predictions for recommendations on the test data.  "
   ],
   "metadata": {}
  },
  {
   "cell_type": "code",
   "execution_count": 37,
   "source": [
    "def fit(data, k = 4):\r\n",
    "    u, s, vt = np.linalg.svd(data)\r\n",
    "    s_new, u_new, vt_new = np.diag(s[:k]), u[:, :k], vt[:k, :]\r\n",
    "\r\n",
    "    return np.around(np.dot(np.dot(u_new, s_new), vt_new))\r\n",
    "\r\n",
    "def calculate_error(df_pred, df_test):\r\n",
    "    diffs = np.subtract(df_test, df_pred)\r\n",
    "\r\n",
    "    return np.sum(np.sum(np.abs(diffs)))\r\n",
    "\r\n",
    "def intersect_data(data1, data2):\r\n",
    "    idx = np.intersect1d(user_item_train.index, user_item_test.index)\r\n",
    "    cols = np.intersect1d(user_item_train.columns, user_item_test.columns)\r\n",
    "\r\n",
    "    return data1.loc[idx][cols], \\\r\n",
    "        data2.loc[idx][cols]\r\n",
    "\r\n",
    "def plot_accuracy(num_latent_feats, errors, total_int):\r\n",
    "    plt.plot(num_latent_feats, 1 - np.array(errors)/total_int);\r\n",
    "    plt.xlabel('Number of Latent Features');\r\n",
    "    plt.ylabel('Accuracy');\r\n",
    "    plt.title('Accuracy vs. Number of Latent Features');"
   ],
   "outputs": [],
   "metadata": {}
  },
  {
   "cell_type": "code",
   "execution_count": 38,
   "source": [
    "# from sklearn.model_selection import train_test_split\r\n",
    "\r\n",
    "# interactions_train, interactions_test = train_test_split(interactions, test_size=0.2, random_state=42)\r\n",
    "\r\n",
    "# user_item_train, user_item_test, test_idx, test_arts = create_test_and_train_user_item(interactions_train, interactions_test)"
   ],
   "outputs": [],
   "metadata": {}
  },
  {
   "cell_type": "code",
   "execution_count": 39,
   "source": [
    "user_item_train_sub, user_item_test_sub = intersect_data(user_item_train, user_item_test)\r\n",
    "user_item_train_sub.shape, user_item_test_sub.shape"
   ],
   "outputs": [
    {
     "output_type": "execute_result",
     "data": {
      "text/plain": [
       "((20, 574), (20, 574))"
      ]
     },
     "metadata": {},
     "execution_count": 39
    }
   ],
   "metadata": {}
  },
  {
   "cell_type": "code",
   "execution_count": 40,
   "source": [
    "# fit SVD on the user_item_train matrix\r\n",
    "u_train, s_train, vt_train = np.linalg.svd(user_item_train_sub)\r\n",
    "u_train.shape, s_train.shape, vt_train.shape"
   ],
   "outputs": [
    {
     "output_type": "execute_result",
     "data": {
      "text/plain": [
       "((20, 20), (20,), (574, 574))"
      ]
     },
     "metadata": {},
     "execution_count": 40
    }
   ],
   "metadata": {
    "collapsed": true
   }
  },
  {
   "cell_type": "code",
   "execution_count": 46,
   "source": [
    "# Use these cells to see how well you can use the training \r\n",
    "# decomposition to predict on test data\r\n",
    "\r\n",
    "num_latent_feats = np.arange(s_train.shape[0]//20,s_train.shape[0],s_train.shape[0]//20)\r\n",
    "sum_errs_test = []\r\n",
    "sum_errs_train = []\r\n",
    "\r\n",
    "for k in num_latent_feats:\r\n",
    "    user_item_pred = fit(user_item_train_sub, k)\r\n",
    "    err_test = calculate_error(user_item_pred, user_item_test_sub)\r\n",
    "    err_train = calculate_error(user_item_pred, user_item_train_sub)\r\n",
    "\r\n",
    "    sum_errs_test.append(err_test)\r\n",
    "    sum_errs_train.append(err_train)\r\n",
    "\r\n",
    "print(sum_errs_train)\r\n",
    "print(sum_errs_test)\r\n",
    "\r\n",
    "plot_accuracy(num_latent_feats, sum_errs_train, user_item_train_sub.shape[0]*user_item_train_sub.shape[1])\r\n",
    "plot_accuracy(num_latent_feats, sum_errs_test, user_item_test_sub.shape[0]*user_item_test_sub.shape[1])"
   ],
   "outputs": [
    {
     "output_type": "stream",
     "name": "stdout",
     "text": [
      "[228.0, 180.0, 159.0, 123.0, 101.0, 74.0, 61.0, 55.0, 42.0, 36.0, 25.0, 15.0, 11.0, 7.0, 5.0, 4.0, 3.0, 2.0, 1.0]\n",
      "[242.0, 272.0, 289.0, 313.0, 329.0, 350.0, 363.0, 369.0, 380.0, 386.0, 395.0, 397.0, 399.0, 403.0, 405.0, 406.0, 407.0, 408.0, 407.0]\n"
     ]
    },
    {
     "output_type": "display_data",
     "data": {
      "image/png": "[encoded data removed]",
      "text/plain": [
       "<Figure size 432x288 with 1 Axes>"
      ]
     },
     "metadata": {
      "needs_background": "light"
     }
    }
   ],
   "metadata": {
    "collapsed": true
   }
  },
  {
   "cell_type": "markdown",
   "source": [
    "`6.` Use the cell below to comment on the results you found in the previous question. Given the circumstances of your results, discuss what you might do to determine if the recommendations you make with any of the above recommendation systems are an improvement to how users currently find articles? "
   ],
   "metadata": {
    "collapsed": true
   }
  },
  {
   "cell_type": "markdown",
   "source": [
    "**Your response here.**\r\n"
   ],
   "metadata": {}
  },
  {
   "cell_type": "markdown",
   "source": [
    "<a id='conclusions'></a>\n",
    "### Extras\n",
    "Using your workbook, you could now save your recommendations for each user, develop a class to make new predictions and update your results, and make a flask app to deploy your results.  These tasks are beyond what is required for this project.  However, from what you learned in the lessons, you certainly capable of taking these tasks on to improve upon your work here!\n",
    "\n",
    "\n",
    "## Conclusion\n",
    "\n",
    "> Congratulations!  You have reached the end of the Recommendations with IBM project! \n",
    "\n",
    "> **Tip**: Once you are satisfied with your work here, check over your report to make sure that it is satisfies all the areas of the [rubric](https://review.udacity.com/#!/rubrics/2322/view). You should also probably remove all of the \"Tips\" like this one so that the presentation is as polished as possible.\n",
    "\n",
    "\n",
    "## Directions to Submit\n",
    "\n",
    "> Before you submit your project, you need to create a .html or .pdf version of this notebook in the workspace here. To do that, run the code cell below. If it worked correctly, you should get a return code of 0, and you should see the generated .html file in the workspace directory (click on the orange Jupyter icon in the upper left).\n",
    "\n",
    "> Alternatively, you can download this report as .html via the **File** > **Download as** submenu, and then manually upload it into the workspace directory by clicking on the orange Jupyter icon in the upper left, then using the Upload button.\n",
    "\n",
    "> Once you've done this, you can submit your project by clicking on the \"Submit Project\" button in the lower right here. This will create and submit a zip file with this .ipynb doc and the .html or .pdf version you created. Congratulations! "
   ],
   "metadata": {
    "collapsed": true
   }
  },
  {
   "cell_type": "code",
   "execution_count": 42,
   "source": [
    "from subprocess import call\r\n",
    "call(['python', '-m', 'nbconvert', 'Recommendations_with_IBM.ipynb'])"
   ],
   "outputs": [
    {
     "output_type": "execute_result",
     "data": {
      "text/plain": [
       "4294967295"
      ]
     },
     "metadata": {},
     "execution_count": 42
    }
   ],
   "metadata": {
    "collapsed": true
   }
  }
 ],
 "metadata": {
  "kernelspec": {
   "name": "python3",
   "display_name": "Python 3.9.7 64-bit ('ibm_recommend': conda)"
  },
  "language_info": {
   "codemirror_mode": {
    "name": "ipython",
    "version": 3
   },
   "file_extension": ".py",
   "mimetype": "text/x-python",
   "name": "python",
   "nbconvert_exporter": "python",
   "pygments_lexer": "ipython3",
   "version": "3.9.7"
  },
  "interpreter": {
   "hash": "19aceec5fcd6fe28670f39531927d47e7d5a10fdb638099df591bdce68205e34"
  }
 },
 "nbformat": 4,
 "nbformat_minor": 2
}