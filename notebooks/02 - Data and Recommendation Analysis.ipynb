{
 "cells": [
  {
   "cell_type": "markdown",
   "source": [
    "# Recommendations with IBM - Data Analysis"
   ],
   "metadata": {}
  },
  {
   "cell_type": "markdown",
   "source": [
    "## Table of Contents\r\n",
    "\r\n",
    "I. [Exploratory Data Analysis](#Exploratory-Data-Analysis)<br>\r\n",
    "II. [Rank Based Recommendations](#Rank)<br>\r\n",
    "III. [User-User Based Collaborative Filtering](#User-User)<br>\r\n",
    "IV. [Content Based Recommendations (EXTRA - NOT REQUIRED)](#Content-Recs)<br>\r\n",
    "V. [Matrix Factorization](#Matrix-Fact)<br>\r\n",
    "VI. [Extras & Concluding](#conclusions)"
   ],
   "metadata": {}
  },
  {
   "cell_type": "markdown",
   "source": [
    "## Preparations\r\n",
    "\r\n",
    "Import libraries and local scripts along with loading the cleaned data `articles` and `interactions`."
   ],
   "metadata": {}
  },
  {
   "cell_type": "code",
   "execution_count": 1,
   "source": [
    "!pip install -e ../"
   ],
   "outputs": [
    {
     "output_type": "stream",
     "name": "stdout",
     "text": [
      "Obtaining file:///C:/Users/netxph/Projects/ibm-recommend\n",
      "Installing collected packages: ibm-recommend\n",
      "  Attempting uninstall: ibm-recommend\n",
      "    Found existing installation: ibm-recommend 0.1.0\n",
      "    Uninstalling ibm-recommend-0.1.0:\n",
      "      Successfully uninstalled ibm-recommend-0.1.0\n",
      "  Running setup.py develop for ibm-recommend\n",
      "Successfully installed ibm-recommend-0.1.0\n"
     ]
    }
   ],
   "metadata": {}
  },
  {
   "cell_type": "code",
   "execution_count": 2,
   "source": [
    "import pandas as pd\r\n",
    "import numpy as np\r\n",
    "import matplotlib.pyplot as plt\r\n",
    "import ibm_recommend.project_tests as t\r\n",
    "\r\n",
    "from ibm_recommend.matrix import fit_transform, calculate_accuracy, intersect_data, plot_accuracy\r\n",
    "\r\n",
    "%matplotlib inline"
   ],
   "outputs": [],
   "metadata": {
    "collapsed": true
   }
  },
  {
   "cell_type": "code",
   "execution_count": 3,
   "source": [
    "articles = pd.read_csv(\"../data/processed/articles.csv\")\r\n",
    "articles.article_id = articles.article_id.astype(str)\r\n",
    "articles.head()"
   ],
   "outputs": [
    {
     "output_type": "execute_result",
     "data": {
      "text/html": [
       "<div>\n",
       "<style scoped>\n",
       "    .dataframe tbody tr th:only-of-type {\n",
       "        vertical-align: middle;\n",
       "    }\n",
       "\n",
       "    .dataframe tbody tr th {\n",
       "        vertical-align: top;\n",
       "    }\n",
       "\n",
       "    .dataframe thead th {\n",
       "        text-align: right;\n",
       "    }\n",
       "</style>\n",
       "<table border=\"1\" class=\"dataframe\">\n",
       "  <thead>\n",
       "    <tr style=\"text-align: right;\">\n",
       "      <th></th>\n",
       "      <th>article_id</th>\n",
       "      <th>name</th>\n",
       "      <th>description</th>\n",
       "      <th>body</th>\n",
       "    </tr>\n",
       "  </thead>\n",
       "  <tbody>\n",
       "    <tr>\n",
       "      <th>0</th>\n",
       "      <td>0</td>\n",
       "      <td>Detect Malfunctioning IoT Sensors with Streami...</td>\n",
       "      <td>Detect bad readings in real time using Python ...</td>\n",
       "      <td>Skip navigation Sign in SearchLoading...\\r\\n\\r...</td>\n",
       "    </tr>\n",
       "    <tr>\n",
       "      <th>1</th>\n",
       "      <td>1</td>\n",
       "      <td>Communicating data science: A guide to present...</td>\n",
       "      <td>See the forest, see the trees. Here lies the c...</td>\n",
       "      <td>No Free Hunch Navigation * kaggle.com\\r\\n\\r\\n ...</td>\n",
       "    </tr>\n",
       "    <tr>\n",
       "      <th>2</th>\n",
       "      <td>2</td>\n",
       "      <td>This Week in Data Science (April 18, 2017)</td>\n",
       "      <td>Here’s this week’s news in Data Science and Bi...</td>\n",
       "      <td>☰ * Login\\r\\n * Sign Up\\r\\n\\r\\n * Learning Pat...</td>\n",
       "    </tr>\n",
       "    <tr>\n",
       "      <th>3</th>\n",
       "      <td>3</td>\n",
       "      <td>DataLayer Conference: Boost the performance of...</td>\n",
       "      <td>Learn how distributed DBs solve the problem of...</td>\n",
       "      <td>DATALAYER: HIGH THROUGHPUT, LOW LATENCY AT SCA...</td>\n",
       "    </tr>\n",
       "    <tr>\n",
       "      <th>4</th>\n",
       "      <td>4</td>\n",
       "      <td>Analyze NY Restaurant data using Spark in DSX</td>\n",
       "      <td>This video demonstrates the power of IBM DataS...</td>\n",
       "      <td>Skip navigation Sign in SearchLoading...\\r\\n\\r...</td>\n",
       "    </tr>\n",
       "  </tbody>\n",
       "</table>\n",
       "</div>"
      ],
      "text/plain": [
       "  article_id                                               name  \\\n",
       "0          0  Detect Malfunctioning IoT Sensors with Streami...   \n",
       "1          1  Communicating data science: A guide to present...   \n",
       "2          2         This Week in Data Science (April 18, 2017)   \n",
       "3          3  DataLayer Conference: Boost the performance of...   \n",
       "4          4      Analyze NY Restaurant data using Spark in DSX   \n",
       "\n",
       "                                         description  \\\n",
       "0  Detect bad readings in real time using Python ...   \n",
       "1  See the forest, see the trees. Here lies the c...   \n",
       "2  Here’s this week’s news in Data Science and Bi...   \n",
       "3  Learn how distributed DBs solve the problem of...   \n",
       "4  This video demonstrates the power of IBM DataS...   \n",
       "\n",
       "                                                body  \n",
       "0  Skip navigation Sign in SearchLoading...\\r\\n\\r...  \n",
       "1  No Free Hunch Navigation * kaggle.com\\r\\n\\r\\n ...  \n",
       "2  ☰ * Login\\r\\n * Sign Up\\r\\n\\r\\n * Learning Pat...  \n",
       "3  DATALAYER: HIGH THROUGHPUT, LOW LATENCY AT SCA...  \n",
       "4  Skip navigation Sign in SearchLoading...\\r\\n\\r...  "
      ]
     },
     "metadata": {},
     "execution_count": 3
    }
   ],
   "metadata": {
    "collapsed": true
   }
  },
  {
   "cell_type": "code",
   "execution_count": 4,
   "source": [
    "articles.info()"
   ],
   "outputs": [
    {
     "output_type": "stream",
     "name": "stdout",
     "text": [
      "<class 'pandas.core.frame.DataFrame'>\n",
      "RangeIndex: 1051 entries, 0 to 1050\n",
      "Data columns (total 4 columns):\n",
      " #   Column       Non-Null Count  Dtype \n",
      "---  ------       --------------  ----- \n",
      " 0   article_id   1051 non-null   object\n",
      " 1   name         1051 non-null   object\n",
      " 2   description  1048 non-null   object\n",
      " 3   body         1037 non-null   object\n",
      "dtypes: object(4)\n",
      "memory usage: 33.0+ KB\n"
     ]
    }
   ],
   "metadata": {}
  },
  {
   "cell_type": "code",
   "execution_count": 5,
   "source": [
    "interactions = pd.read_csv(\"../data/processed/interactions.csv\")\r\n",
    "interactions.article_id = interactions.article_id.astype(str)\r\n",
    "interactions.head()"
   ],
   "outputs": [
    {
     "output_type": "execute_result",
     "data": {
      "text/html": [
       "<div>\n",
       "<style scoped>\n",
       "    .dataframe tbody tr th:only-of-type {\n",
       "        vertical-align: middle;\n",
       "    }\n",
       "\n",
       "    .dataframe tbody tr th {\n",
       "        vertical-align: top;\n",
       "    }\n",
       "\n",
       "    .dataframe thead th {\n",
       "        text-align: right;\n",
       "    }\n",
       "</style>\n",
       "<table border=\"1\" class=\"dataframe\">\n",
       "  <thead>\n",
       "    <tr style=\"text-align: right;\">\n",
       "      <th></th>\n",
       "      <th>user_id</th>\n",
       "      <th>article_id</th>\n",
       "      <th>title</th>\n",
       "      <th>email</th>\n",
       "    </tr>\n",
       "  </thead>\n",
       "  <tbody>\n",
       "    <tr>\n",
       "      <th>0</th>\n",
       "      <td>1</td>\n",
       "      <td>1430</td>\n",
       "      <td>using pixiedust for fast, flexible, and easier...</td>\n",
       "      <td>ef5f11f77ba020cd36e1105a00ab868bbdbf7fe7</td>\n",
       "    </tr>\n",
       "    <tr>\n",
       "      <th>1</th>\n",
       "      <td>2</td>\n",
       "      <td>1314</td>\n",
       "      <td>healthcare python streaming application demo</td>\n",
       "      <td>083cbdfa93c8444beaa4c5f5e0f5f9198e4f9e0b</td>\n",
       "    </tr>\n",
       "    <tr>\n",
       "      <th>2</th>\n",
       "      <td>3</td>\n",
       "      <td>1429</td>\n",
       "      <td>use deep learning for image classification</td>\n",
       "      <td>b96a4f2e92d8572034b1e9b28f9ac673765cd074</td>\n",
       "    </tr>\n",
       "    <tr>\n",
       "      <th>3</th>\n",
       "      <td>4</td>\n",
       "      <td>1338</td>\n",
       "      <td>ml optimization using cognitive assistant</td>\n",
       "      <td>06485706b34a5c9bf2a0ecdac41daf7e7654ceb7</td>\n",
       "    </tr>\n",
       "    <tr>\n",
       "      <th>4</th>\n",
       "      <td>5</td>\n",
       "      <td>1276</td>\n",
       "      <td>deploy your python model as a restful api</td>\n",
       "      <td>f01220c46fc92c6e6b161b1849de11faacd7ccb2</td>\n",
       "    </tr>\n",
       "  </tbody>\n",
       "</table>\n",
       "</div>"
      ],
      "text/plain": [
       "   user_id article_id                                              title  \\\n",
       "0        1       1430  using pixiedust for fast, flexible, and easier...   \n",
       "1        2       1314       healthcare python streaming application demo   \n",
       "2        3       1429         use deep learning for image classification   \n",
       "3        4       1338          ml optimization using cognitive assistant   \n",
       "4        5       1276          deploy your python model as a restful api   \n",
       "\n",
       "                                      email  \n",
       "0  ef5f11f77ba020cd36e1105a00ab868bbdbf7fe7  \n",
       "1  083cbdfa93c8444beaa4c5f5e0f5f9198e4f9e0b  \n",
       "2  b96a4f2e92d8572034b1e9b28f9ac673765cd074  \n",
       "3  06485706b34a5c9bf2a0ecdac41daf7e7654ceb7  \n",
       "4  f01220c46fc92c6e6b161b1849de11faacd7ccb2  "
      ]
     },
     "metadata": {},
     "execution_count": 5
    }
   ],
   "metadata": {}
  },
  {
   "cell_type": "code",
   "execution_count": 6,
   "source": [
    "interactions.info()"
   ],
   "outputs": [
    {
     "output_type": "stream",
     "name": "stdout",
     "text": [
      "<class 'pandas.core.frame.DataFrame'>\n",
      "RangeIndex: 45993 entries, 0 to 45992\n",
      "Data columns (total 4 columns):\n",
      " #   Column      Non-Null Count  Dtype \n",
      "---  ------      --------------  ----- \n",
      " 0   user_id     45993 non-null  int64 \n",
      " 1   article_id  45993 non-null  object\n",
      " 2   title       45993 non-null  object\n",
      " 3   email       45976 non-null  object\n",
      "dtypes: int64(1), object(3)\n",
      "memory usage: 1.4+ MB\n"
     ]
    }
   ],
   "metadata": {}
  },
  {
   "cell_type": "markdown",
   "source": [
    "## <a class=\"anchor\" id=\"Exploratory-Data-Analysis\">Part I: Exploratory Data Analysis</a>"
   ],
   "metadata": {}
  },
  {
   "cell_type": "markdown",
   "source": [
    "### `1.` What is the distribution of how many articles a user interacts with in the dataset?  Provide a visual and descriptive statistics to assist with giving a look at the number of times each user interacts with an article.  "
   ],
   "metadata": {}
  },
  {
   "cell_type": "code",
   "execution_count": 7,
   "source": [
    "interactions.groupby(\"email\").user_id.count().sort_values(ascending = False)"
   ],
   "outputs": [
    {
     "output_type": "execute_result",
     "data": {
      "text/plain": [
       "email\n",
       "2b6c0f514c2f2b04ad3c4583407dccd0810469ee    364\n",
       "77959baaa9895a7e2bdc9297f8b27c1b6f2cb52a    363\n",
       "2f5c7feae533ce046f2cb16fb3a29fe00528ed66    170\n",
       "a37adec71b667b297ed2440a9ff7dad427c7ac85    169\n",
       "8510a5010a5d4c89f5b07baac6de80cd12cfaf93    160\n",
       "                                           ... \n",
       "1b520f0f65c0aee52d4235f92fb2de58fa966635      1\n",
       "7a67e4a2902a20062e1f2a6835b6e099b34b4f6c      1\n",
       "c4b7e639e91b1d18e5b9c000f0ad3354888fcdde      1\n",
       "7a7fb282789944665ffc1cddee5ddbdbd7ca9f64      1\n",
       "9655144418d25a0e074616840447e6e5dbef0069      1\n",
       "Name: user_id, Length: 5148, dtype: int64"
      ]
     },
     "metadata": {},
     "execution_count": 7
    }
   ],
   "metadata": {}
  },
  {
   "cell_type": "code",
   "execution_count": 8,
   "source": [
    "# non-unique interactions\r\n",
    "\r\n",
    "interactions.groupby(\"email\").user_id.count().hist(bins=100)"
   ],
   "outputs": [
    {
     "output_type": "execute_result",
     "data": {
      "text/plain": [
       "<AxesSubplot:>"
      ]
     },
     "metadata": {},
     "execution_count": 8
    },
    {
     "output_type": "display_data",
     "data": {
      "image/png": "[encoded data removed]",
      "text/plain": [
       "<Figure size 432x288 with 1 Axes>"
      ]
     },
     "metadata": {
      "needs_background": "light"
     }
    }
   ],
   "metadata": {}
  },
  {
   "cell_type": "code",
   "execution_count": 9,
   "source": [
    "interactions[[\"email\", \"article_id\"]].drop_duplicates().groupby(\"email\").article_id.count().sort_values(ascending = False)"
   ],
   "outputs": [
    {
     "output_type": "execute_result",
     "data": {
      "text/plain": [
       "email\n",
       "2b6c0f514c2f2b04ad3c4583407dccd0810469ee    135\n",
       "77959baaa9895a7e2bdc9297f8b27c1b6f2cb52a    135\n",
       "d9032ff68d0fd45dfd18c0c5f7324619bb55362c    101\n",
       "c60bb0a50c324dad0bffd8809d121246baef372b    100\n",
       "a37adec71b667b297ed2440a9ff7dad427c7ac85     97\n",
       "                                           ... \n",
       "1ab433bafebd7f8b6322c05def9b41e0f029ea83      1\n",
       "8283f83275dbd8cc8a2dd4d35a25f4a86310afbd      1\n",
       "c1ad3e68598e288e5df72275ba03444ee218aab8      1\n",
       "1ab7c183ceb155cab3b9dcc92f36039b025cd86e      1\n",
       "262b5095f21d3addbff0ab212a968a467cc7592b      1\n",
       "Name: article_id, Length: 5148, dtype: int64"
      ]
     },
     "metadata": {},
     "execution_count": 9
    }
   ],
   "metadata": {}
  },
  {
   "cell_type": "code",
   "execution_count": 10,
   "source": [
    "# unique interactions\r\n",
    "\r\n",
    "interactions[[\"email\", \"article_id\"]].drop_duplicates().groupby(\"email\").article_id.count().hist(bins=10)"
   ],
   "outputs": [
    {
     "output_type": "execute_result",
     "data": {
      "text/plain": [
       "<AxesSubplot:>"
      ]
     },
     "metadata": {},
     "execution_count": 10
    },
    {
     "output_type": "display_data",
     "data": {
      "image/png": "[encoded data removed]",
      "text/plain": [
       "<Figure size 432x288 with 1 Axes>"
      ]
     },
     "metadata": {
      "needs_background": "light"
     }
    }
   ],
   "metadata": {}
  },
  {
   "cell_type": "code",
   "execution_count": 11,
   "source": [
    "# Fill in the median and maximum number of user_article interactions below\r\n",
    "\r\n",
    "median_val = interactions.groupby(\"email\").count().median().values[0]\r\n",
    "print(f\"50% of individuals interact with {median_val} number of articles or fewer.\")\r\n",
    "\r\n",
    "max_views_by_user = interactions.groupby(\"email\").count().max().values[0]\r\n",
    "print(f\"The maximum number of user-article interactions by any 1 user is {max_views_by_user}.\")"
   ],
   "outputs": [
    {
     "output_type": "stream",
     "name": "stdout",
     "text": [
      "50% of individuals interact with 3.0 number of articles or fewer.\n",
      "The maximum number of user-article interactions by any 1 user is 364.\n"
     ]
    }
   ],
   "metadata": {
    "collapsed": true
   }
  },
  {
   "cell_type": "markdown",
   "source": [
    "### `2.` Use the cells below to find:\r\n",
    "\r\n",
    "**a.** The number of unique articles that have an interaction with a user.  \r\n",
    "**b.** The number of unique articles in the dataset (whether they have any interactions or not).<br>\r\n",
    "**c.** The number of unique users in the dataset. (excluding null values) <br>\r\n",
    "**d.** The number of user-article interactions in the dataset."
   ],
   "metadata": {}
  },
  {
   "cell_type": "code",
   "execution_count": 12,
   "source": [
    "unique_articles = interactions.article_id.nunique()\r\n",
    "print(f\"The number of unique articles that have at least one interaction: {unique_articles}\")\r\n",
    "\r\n",
    "total_articles = len(articles)\r\n",
    "print(f\"The number of unique articles on the IBM platform: {total_articles}\")\r\n",
    "\r\n",
    "unique_users = interactions.email.nunique()\r\n",
    "print(f\"The number of unique users: {unique_users}\")\r\n",
    "\r\n",
    "user_article_interactions = len(interactions)\r\n",
    "print(f\"The number of user-article interactions: {user_article_interactions}\")"
   ],
   "outputs": [
    {
     "output_type": "stream",
     "name": "stdout",
     "text": [
      "The number of unique articles that have at least one interaction: 714\n",
      "The number of unique articles on the IBM platform: 1051\n",
      "The number of unique users: 5148\n",
      "The number of user-article interactions: 45993\n"
     ]
    }
   ],
   "metadata": {
    "collapsed": true
   }
  },
  {
   "cell_type": "markdown",
   "source": [
    "### `3.` Use the cells below to find the most viewed **article_id**, as well as how often it was viewed.  After talking to the company leaders, the `email_mapper` function was deemed a reasonable way to map users to ids.  There were a small number of null values, and it was found that all of these null values likely belonged to a single user (which is how they are stored using the function below)."
   ],
   "metadata": {}
  },
  {
   "cell_type": "code",
   "execution_count": 13,
   "source": [
    "most_viewed_article_id = str(interactions.groupby(\"article_id\").count().email.sort_values(ascending = False).index[0])\r\n",
    "print(f\"The most viewed article in the dataset as a string with one value following the decimal: {most_viewed_article_id}\")\r\n",
    "\r\n",
    "max_views = interactions.groupby(\"article_id\").count().email.sort_values(ascending = False).values[0]\r\n",
    "print(f\"The most viewed article in the dataset was viewed how many times? {max_views}\")"
   ],
   "outputs": [
    {
     "output_type": "stream",
     "name": "stdout",
     "text": [
      "The most viewed article in the dataset as a string with one value following the decimal: 1429\n",
      "The most viewed article in the dataset was viewed how many times? 937\n"
     ]
    }
   ],
   "metadata": {
    "collapsed": true
   }
  },
  {
   "cell_type": "code",
   "execution_count": 14,
   "source": [
    "## If you stored all your results in the variable names above, \r\n",
    "## you shouldn't need to change anything in this cell\r\n",
    "\r\n",
    "sol_1_dict = {\r\n",
    "    '`50% of individuals have _____ or fewer interactions.`': median_val,\r\n",
    "    '`The total number of user-article interactions in the dataset is ______.`': user_article_interactions,\r\n",
    "    '`The maximum number of user-article interactions by any 1 user is ______.`': max_views_by_user,\r\n",
    "    '`The most viewed article in the dataset was viewed _____ times.`': max_views,\r\n",
    "    '`The article_id of the most viewed article is ______.`': most_viewed_article_id,\r\n",
    "    '`The number of unique articles that have at least 1 rating ______.`': unique_articles,\r\n",
    "    '`The number of unique users in the dataset is ______`': unique_users,\r\n",
    "    '`The number of unique articles on the IBM platform`': total_articles\r\n",
    "}\r\n",
    "\r\n",
    "# Test your dictionary against the solution\r\n",
    "t.sol_1_test(sol_1_dict)"
   ],
   "outputs": [
    {
     "output_type": "stream",
     "name": "stdout",
     "text": [
      "It looks like you have everything right here! Nice job!\n"
     ]
    }
   ],
   "metadata": {
    "collapsed": true
   }
  },
  {
   "cell_type": "markdown",
   "source": [
    "## <a class=\"anchor\" id=\"Rank\">Part II: Rank-Based Recommendations</a>\r\n",
    "\r\n",
    "Unlike in the earlier lessons, we don't actually have ratings for whether a user liked an article or not.  We only know that a user has interacted with an article.  In these cases, the popularity of an article can really only be based on how often an article was interacted with.\r\n",
    "\r\n",
    "### `1.` Fill in the function below to return the **n** top articles ordered with most interactions as the top. Test your function using the tests below."
   ],
   "metadata": {}
  },
  {
   "cell_type": "code",
   "execution_count": 15,
   "source": [
    "def get_top_articles(data, n):\r\n",
    "    '''\r\n",
    "    INPUT:\r\n",
    "    n - (int) the number of top articles to return\r\n",
    "    data - (pandas dataframe) df as defined at the top of the notebook \r\n",
    "    \r\n",
    "    OUTPUT:\r\n",
    "    top_articles - (list) A list of the top 'n' article titles \r\n",
    "    \r\n",
    "    '''\r\n",
    "\r\n",
    "    article_interacts = data \\\r\n",
    "        .groupby(by=[\"article_id\", \"title\"]) \\\r\n",
    "        .agg(interacts = (\"title\", \"count\")) \\\r\n",
    "        .reset_index() \\\r\n",
    "        .sort_values(by=\"interacts\", ascending = False)\r\n",
    "\r\n",
    "    top_articles = article_interacts.title.head(n).tolist()\r\n",
    "    \r\n",
    "    return top_articles\r\n",
    "\r\n",
    "def get_top_article_ids(data, n):\r\n",
    "    '''\r\n",
    "    INPUT:\r\n",
    "    n - (int) the number of top articles to return\r\n",
    "    data - (pandas dataframe) df as defined at the top of the notebook \r\n",
    "    \r\n",
    "    OUTPUT:\r\n",
    "    top_articles - (list) A list of the top 'n' article titles \r\n",
    "    \r\n",
    "    '''\r\n",
    "    \r\n",
    "    article_interacts = data \\\r\n",
    "        .groupby(by=[\"article_id\", \"title\"]) \\\r\n",
    "        .agg(interacts = (\"title\", \"count\")) \\\r\n",
    "        .reset_index() \\\r\n",
    "        .sort_values(by=\"interacts\", ascending = False)\r\n",
    "\r\n",
    "    top_articles = article_interacts.article_id.head(n).tolist()\r\n",
    "    \r\n",
    "    return top_articles"
   ],
   "outputs": [],
   "metadata": {
    "collapsed": true
   }
  },
  {
   "cell_type": "code",
   "execution_count": 16,
   "source": [
    "print(get_top_articles(interactions, 10))\r\n",
    "print(get_top_article_ids(interactions, 10))"
   ],
   "outputs": [
    {
     "output_type": "stream",
     "name": "stdout",
     "text": [
      "['use deep learning for image classification', 'insights from new york car accident reports', 'visualize car data with brunel', 'use xgboost, scikit-learn & ibm watson machine learning apis', 'predicting churn with the spss random tree algorithm', 'healthcare python streaming application demo', 'finding optimal locations of new store using decision optimization', 'apache spark lab, part 1: basic concepts', 'analyze energy consumption in buildings', 'gosales transactions for logistic regression model']\n",
      "['1429', '1330', '1431', '1427', '1364', '1314', '1293', '1170', '1162', '1304']\n"
     ]
    }
   ],
   "metadata": {
    "collapsed": true
   }
  },
  {
   "cell_type": "code",
   "execution_count": 17,
   "source": [
    "# Test your function by returning the top 5, 10, and 20 articles\r\n",
    "top_5 = get_top_articles(interactions, 5)\r\n",
    "top_10 = get_top_articles(interactions, 10)\r\n",
    "top_20 = get_top_articles(interactions, 20)\r\n",
    "\r\n",
    "# Test each of your three lists from above\r\n",
    "t.sol_2_test(get_top_articles, interactions)"
   ],
   "outputs": [
    {
     "output_type": "stream",
     "name": "stdout",
     "text": [
      "Your top_5 looks like the solution list! Nice job.\n",
      "Your top_10 looks like the solution list! Nice job.\n",
      "Your top_20 looks like the solution list! Nice job.\n"
     ]
    }
   ],
   "metadata": {
    "collapsed": true
   }
  },
  {
   "cell_type": "markdown",
   "source": [
    "## <a class=\"anchor\" id=\"User-User\">Part III: User-User Based Collaborative Filtering</a>\r\n",
    "\r\n",
    "\r\n",
    "### `1.` Use the function below to reformat the **df** dataframe to be shaped with users as the rows and articles as the columns.  \r\n",
    "\r\n",
    "* Each **user** should only appear in each **row** once.\r\n",
    "\r\n",
    "\r\n",
    "* Each **article** should only show up in one **column**.  \r\n",
    "\r\n",
    "\r\n",
    "* **If a user has interacted with an article, then place a 1 where the user-row meets for that article-column**.  It does not matter how many times a user has interacted with the article, all entries where a user has interacted with an article should be a 1.  \r\n",
    "\r\n",
    "\r\n",
    "* **If a user has not interacted with an item, then place a zero where the user-row meets for that article-column**. \r\n",
    "\r\n",
    "Use the tests to make sure the basic structure of your matrix matches what is expected by the solution."
   ],
   "metadata": {}
  },
  {
   "cell_type": "code",
   "execution_count": 18,
   "source": [
    "# create the user-article matrix with 1's and 0's\r\n",
    "\r\n",
    "def create_user_item_matrix(data):\r\n",
    "    '''\r\n",
    "    INPUT:\r\n",
    "    data - pandas dataframe with article_id, title, user_id columns\r\n",
    "    \r\n",
    "    OUTPUT:\r\n",
    "    user_item - user item matrix \r\n",
    "    \r\n",
    "    Description:\r\n",
    "    Return a matrix with user ids as rows and article ids on the columns with 1 values where a user interacted with \r\n",
    "    an article and a 0 otherwise\r\n",
    "    '''\r\n",
    "\r\n",
    "    user_item = data[[\"user_id\", \"article_id\"]].groupby(by=[\"user_id\", \"article_id\"]).agg(lambda x: 1).unstack(fill_value = 0)\r\n",
    "    \r\n",
    "    return user_item\r\n",
    "\r\n",
    "user_item = create_user_item_matrix(interactions)"
   ],
   "outputs": [],
   "metadata": {
    "collapsed": true
   }
  },
  {
   "cell_type": "code",
   "execution_count": 19,
   "source": [
    "## Tests: You should just need to run this cell.  Don't change the code.\r\n",
    "assert user_item.shape[0] == 5149, \"Oops!  The number of users in the user-article matrix doesn't look right.\"\r\n",
    "assert user_item.shape[1] == 714, \"Oops!  The number of articles in the user-article matrix doesn't look right.\"\r\n",
    "assert user_item.sum(axis=1)[1] == 36, \"Oops!  The number of articles seen by user 1 doesn't look right.\"\r\n",
    "print(\"You have passed our quick tests!  Please proceed!\")"
   ],
   "outputs": [
    {
     "output_type": "stream",
     "name": "stdout",
     "text": [
      "You have passed our quick tests!  Please proceed!\n"
     ]
    }
   ],
   "metadata": {
    "collapsed": true
   }
  },
  {
   "cell_type": "markdown",
   "source": [
    "### `2.` Complete the function below which should take a user_id and provide an ordered list of the most similar users to that user (from most similar to least similar).  The returned result should not contain the provided user_id, as we know that each user is similar to him/herself. Because the results for each user here are binary, it (perhaps) makes sense to compute similarity as the dot product of two users. \r\n",
    "\r\n",
    "Use the tests to test your function."
   ],
   "metadata": {}
  },
  {
   "cell_type": "code",
   "execution_count": 20,
   "source": [
    "def compute_similarities(data, user1, user2):\r\n",
    "    '''\r\n",
    "    INPUT:\r\n",
    "    user1 - (int) user id\r\n",
    "    user2 - (int) user id\r\n",
    "    data - (pandas dataframe) df as defined at the top of the notebook \r\n",
    "    \r\n",
    "    OUTPUT:\r\n",
    "    similarity - (float) similarity score between user1 and user2\r\n",
    "    \r\n",
    "    Description:\r\n",
    "    Compute the cosine similarity between two users based on the user-item matrix\r\n",
    "    '''\r\n",
    "    user1_articles = data.loc[user1][data.loc[user1] == 1].index.values\r\n",
    "    user2_articles = data.loc[user2][data.loc[user2] == 1].index.values\r\n",
    "    \r\n",
    "    common_articles = np.intersect1d(user1_articles, user2_articles, assume_unique=True)\r\n",
    "\r\n",
    "    # since it's just zeros and ones, we can just sum the common articles\r\n",
    "\r\n",
    "    return len(common_articles)\r\n",
    "    "
   ],
   "outputs": [],
   "metadata": {}
  },
  {
   "cell_type": "code",
   "execution_count": 21,
   "source": [
    "def find_similar_users(data, user_id, rec_num = 5):\r\n",
    "    '''\r\n",
    "    INPUT:\r\n",
    "    data - (pandas dataframe) matrix of users by articles: \r\n",
    "    user_id - (int) a user_id\r\n",
    "                1's when a user has interacted with an article, 0 otherwise\r\n",
    "    rec_num - (int) the number of recommendations you would like for the user\r\n",
    "    \r\n",
    "    OUTPUT:\r\n",
    "    similar_users - (list) an ordered list where the closest users (largest dot product users)\r\n",
    "                    are listed first\r\n",
    "    \r\n",
    "    Description:\r\n",
    "    Computes the similarity of every pair of users based on the dot product\r\n",
    "    Returns an ordered\r\n",
    "    \r\n",
    "    '''\r\n",
    "\r\n",
    "    similar_users = pd.DataFrame(\r\n",
    "        [[i, compute_similarities(data, user_id, i)] for i in data.index.values if i != user_id], \r\n",
    "        columns=[\"user_id\", \"similarity\"]\r\n",
    "    ) \\\r\n",
    "    .sort_values(by=\"similarity\", ascending=False) \\\r\n",
    "    .head(rec_num) \\\r\n",
    "    .user_id.tolist()\r\n",
    "\r\n",
    "    return similar_users \r\n",
    "        "
   ],
   "outputs": [],
   "metadata": {
    "collapsed": true
   }
  },
  {
   "cell_type": "code",
   "execution_count": 22,
   "source": [
    "# Do a spot check of your function\r\n",
    "print(\"The 10 most similar users to user 1 are: {}\".format(find_similar_users(user_item, 1, rec_num=10)))\r\n",
    "print(\"The 5 most similar users to user 3933 are: {}\".format(find_similar_users(user_item, 3933)))\r\n",
    "print(\"The 3 most similar users to user 46 are: {}\".format(find_similar_users(user_item, 46, rec_num=3)))"
   ],
   "outputs": [
    {
     "output_type": "stream",
     "name": "stdout",
     "text": [
      "The 10 most similar users to user 1 are: [3933, 23, 3782, 203, 4459, 3870, 131, 46, 4201, 395]\n",
      "The 5 most similar users to user 3933 are: [1, 23, 3782, 4459, 203]\n",
      "The 3 most similar users to user 46 are: [4201, 23, 3782]\n"
     ]
    }
   ],
   "metadata": {
    "collapsed": true
   }
  },
  {
   "cell_type": "markdown",
   "source": [
    "### `3.` Now that you have a function that provides the most similar users to each user, you will want to use these users to find articles you can recommend.  Complete the functions below to return the articles you would recommend to each user. "
   ],
   "metadata": {}
  },
  {
   "cell_type": "code",
   "execution_count": 23,
   "source": [
    "def get_article_names(data, article_ids):\r\n",
    "    '''\r\n",
    "    INPUT:\r\n",
    "    data - (pandas dataframe) df as defined at the top of the notebook\r\n",
    "    article_ids - (list) a list of article ids\r\n",
    "    \r\n",
    "    OUTPUT:\r\n",
    "    article_names - (list) a list of article names associated with the list of article ids \r\n",
    "                    (this is identified by the title column)\r\n",
    "    '''\r\n",
    "\r\n",
    "    return data[data.article_id.isin(article_ids)].title.unique().tolist()\r\n",
    "\r\n",
    "\r\n",
    "def get_user_articles(data, user_id):\r\n",
    "    '''\r\n",
    "    INPUT:\r\n",
    "    data - (pandas dataframe) matrix of users by articles: \r\n",
    "                1's when a user has interacted with an article, 0 otherwise\r\n",
    "    user_id - (int) a user id\r\n",
    "    \r\n",
    "    OUTPUT:\r\n",
    "    article_ids - (list) a list of the article ids seen by the user\r\n",
    "    article_names - (list) a list of article names associated with the list of article ids \r\n",
    "                    (this is identified by the doc_full_name column in df_content)\r\n",
    "    \r\n",
    "    Description:\r\n",
    "    Provides a list of the article_ids and article titles that have been seen by a user\r\n",
    "    '''\r\n",
    "    num_interactions = data[[\"user_id\", \"article_id\", \"title\"]].groupby(\"article_id\").agg(count = (\"user_id\", \"count\")).reset_index()\r\n",
    "\r\n",
    "    user_articles = data[[\"user_id\", \"article_id\", \"title\"]][data.user_id == user_id].drop_duplicates()\r\n",
    "\r\n",
    "    sorted_articles = pd.merge(user_articles, num_interactions, on=\"article_id\").sort_values(by=\"count\", ascending=False)\r\n",
    "    \r\n",
    "\r\n",
    "    return sorted_articles.article_id.tolist(), sorted_articles.title.tolist() # return the ids and names\r\n",
    "\r\n",
    "\r\n",
    "def user_user_recs(data, user_id, rec_num=10):\r\n",
    "    '''\r\n",
    "    INPUT:\r\n",
    "    data - (pandas dataframe) matrix of users by articles:\r\n",
    "                1's when a user has interacted with an article, 0 otherwise\r\n",
    "    user_id - (int) a user id\r\n",
    "    rec_num - (int) the number of recommendations you want for the user\r\n",
    "    \r\n",
    "    OUTPUT:\r\n",
    "    recs - (list) a list of recommendations for the user\r\n",
    "    \r\n",
    "    Description:\r\n",
    "    Loops through the users based on closeness to the input user_id\r\n",
    "    For each user - finds articles the user hasn't seen before and provides them as recs\r\n",
    "    Does this until m recommendations are found\r\n",
    "    \r\n",
    "    Notes:\r\n",
    "    Users who are the same closeness are chosen arbitrarily as the 'next' user\r\n",
    "    \r\n",
    "    For the user where the number of recommended articles starts below m \r\n",
    "    and ends exceeding m, the last items are chosen arbitrarily\r\n",
    "    \r\n",
    "    '''\r\n",
    "\r\n",
    "    recs = []    \r\n",
    "    matrix = create_user_item_matrix(data)\r\n",
    "    user_articles = get_user_articles(data, user_id)[0]\r\n",
    "    similar_users = find_similar_users(matrix, user_id)\r\n",
    "\r\n",
    "    for user in similar_users:\r\n",
    "        articles = get_user_articles(data, user)[0]\r\n",
    "        for article in articles:\r\n",
    "            if article not in user_articles and article not in recs:\r\n",
    "                recs.append(article)\r\n",
    "                if len(recs) == rec_num:\r\n",
    "                    return recs\r\n",
    "    \r\n",
    "    return recs # return even if rec_num is not met"
   ],
   "outputs": [],
   "metadata": {
    "collapsed": true
   }
  },
  {
   "cell_type": "code",
   "execution_count": 24,
   "source": [
    "# Check Results\r\n",
    "get_article_names(interactions, user_user_recs(interactions, 1, 10)) # Return 10 recommendations for user 1"
   ],
   "outputs": [
    {
     "output_type": "execute_result",
     "data": {
      "text/plain": [
       "['healthcare python streaming application demo',\n",
       " 'ml optimization using cognitive assistant',\n",
       " 'the nurse assignment problem',\n",
       " 'predicting churn with the spss random tree algorithm',\n",
       " 'analyze energy consumption in buildings',\n",
       " 'gosales transactions for logistic regression model',\n",
       " 'insights from new york car accident reports',\n",
       " 'model bike sharing data with spss',\n",
       " 'analyze accident reports on amazon emr spark',\n",
       " 'movie recommender system with spark machine learning']"
      ]
     },
     "metadata": {},
     "execution_count": 24
    }
   ],
   "metadata": {
    "collapsed": true
   }
  },
  {
   "cell_type": "code",
   "execution_count": 25,
   "source": [
    "# Test your functions here - No need to change this code - just run this cell\r\n",
    "assert set(get_article_names(interactions, ['1024', '1176', '1305', '1314', '1422', '1427'])) == set(['using deep learning to reconstruct high-resolution audio', 'build a python app on the streaming analytics service', 'gosales transactions for naive bayes model', 'healthcare python streaming application demo', 'use r dataframes & ibm watson natural language understanding', 'use xgboost, scikit-learn & ibm watson machine learning apis']), \"Oops! Your the get_article_names function doesn't work quite how we expect.\"\r\n",
    "assert set(get_article_names(interactions, ['1320', '232', '844'])) == set(['housing (2015): united states demographic measures','self-service data preparation with ibm data refinery','use the cloudant-spark connector in python notebook']), \"Oops! Your the get_article_names function doesn't work quite how we expect.\"\r\n",
    "assert set(get_user_articles(interactions, 20)[0]) == set(['1320', '232', '844'])\r\n",
    "assert set(get_user_articles(interactions, 20)[1]) == set(['housing (2015): united states demographic measures', 'self-service data preparation with ibm data refinery','use the cloudant-spark connector in python notebook'])\r\n",
    "assert set(get_user_articles(interactions, 2)[0]) == set(['1024', '1176', '1305', '1314', '1422', '1427'])\r\n",
    "assert set(get_user_articles(interactions, 2)[1]) == set(['using deep learning to reconstruct high-resolution audio', 'build a python app on the streaming analytics service', 'gosales transactions for naive bayes model', 'healthcare python streaming application demo', 'use r dataframes & ibm watson natural language understanding', 'use xgboost, scikit-learn & ibm watson machine learning apis'])\r\n",
    "print(\"If this is all you see, you passed all of our tests!  Nice job!\")"
   ],
   "outputs": [
    {
     "output_type": "stream",
     "name": "stdout",
     "text": [
      "If this is all you see, you passed all of our tests!  Nice job!\n"
     ]
    }
   ],
   "metadata": {
    "collapsed": true
   }
  },
  {
   "cell_type": "markdown",
   "source": [
    "### `4.` Now we are going to improve the consistency of the **user_user_recs** function from above.  \r\n",
    "\r\n",
    "* Instead of arbitrarily choosing when we obtain users who are all the same closeness to a given user - choose the users that have the most total article interactions before choosing those with fewer article interactions.\r\n",
    "\r\n",
    "\r\n",
    "* Instead of arbitrarily choosing articles from the user where the number of recommended articles starts below m and ends exceeding m, choose articles with the articles with the most total interactions before choosing those with fewer total interactions. This ranking should be  what would be obtained from the **top_articles** function you wrote earlier."
   ],
   "metadata": {}
  },
  {
   "cell_type": "code",
   "execution_count": 26,
   "source": [
    "def get_top_sorted_users(data, user_id):\r\n",
    "    '''\r\n",
    "    INPUT:\r\n",
    "    data - (pandas dataframe) matrix of users by articles: \r\n",
    "            1's when a user has interacted with an article, 0 otherwise\r\n",
    "    user_id - (int)\r\n",
    "    \r\n",
    "            \r\n",
    "    OUTPUT:\r\n",
    "    neighbors_df - (pandas dataframe) a dataframe with:\r\n",
    "                    neighbor_id - is a neighbor user_id\r\n",
    "                    similarity - measure of the similarity of each user to the provided user_id\r\n",
    "                    num_interactions - the number of articles viewed by the user - if a u\r\n",
    "                    \r\n",
    "    Other Details - sort the neighbors_df by the similarity and then by number of interactions where \r\n",
    "                    highest of each is higher in the dataframe\r\n",
    "     \r\n",
    "    '''\r\n",
    "    matrix = create_user_item_matrix(data)\r\n",
    "\r\n",
    "    neighbors_df = pd.DataFrame(\r\n",
    "        [[i, compute_similarities(matrix, user_id, i)] for i in matrix.index.values if i != user_id], \r\n",
    "        columns=[\"neighbor_id\", \"similarity\"]\r\n",
    "    ) \\\r\n",
    "    .sort_values(by=\"similarity\", ascending=False) \r\n",
    "\r\n",
    "    \r\n",
    "    neighbors_df[\"num_interactions\"]  = neighbors_df.neighbor_id.apply(lambda x: len(data[data.user_id == x]))\r\n",
    "    neighbors_df = neighbors_df.sort_values(by=[\"similarity\", \"num_interactions\"], ascending=False)\r\n",
    "    \r\n",
    "    return neighbors_df # Return the dataframe specified in the doc_string\r\n",
    "\r\n",
    "\r\n",
    "def user_user_recs_part2(data, user_id, rec_num=10):\r\n",
    "    '''\r\n",
    "    INPUT:\r\n",
    "    data - (pandas dataframe) matrix of users by articles:\r\n",
    "            1's when a user has interacted with an article, 0 otherwise\r\n",
    "    user_id - (int) a user id\r\n",
    "    rec_num - (int) the number of recommendations you want for the user\r\n",
    "    \r\n",
    "    OUTPUT:\r\n",
    "    recs - (list) a list of recommendations for the user by article id\r\n",
    "    rec_names - (list) a list of recommendations for the user by article title\r\n",
    "    \r\n",
    "    Description:\r\n",
    "    Loops through the users based on closeness to the input user_id\r\n",
    "    For each user - finds articles the user hasn't seen before and provides them as recs\r\n",
    "    Does this until m recommendations are found\r\n",
    "    \r\n",
    "    Notes:\r\n",
    "    * Choose the users that have the most total article interactions \r\n",
    "    before choosing those with fewer article interactions.\r\n",
    "\r\n",
    "    * Choose articles with the articles with the most total interactions \r\n",
    "    before choosing those with fewer total interactions. \r\n",
    "   \r\n",
    "    '''\r\n",
    "\r\n",
    "    recs = []    \r\n",
    "    user_articles = get_user_articles(data, user_id)[0]\r\n",
    "    similar_users = get_top_sorted_users(data, user_id)\r\n",
    "\r\n",
    "    for user in similar_users.neighbor_id:\r\n",
    "        articles = get_user_articles(data, user)[0]\r\n",
    "\r\n",
    "        for article in articles:\r\n",
    "            if article not in user_articles and article not in recs:\r\n",
    "                recs.append(article)\r\n",
    "                if len(recs) == rec_num:\r\n",
    "                    break\r\n",
    "        \r\n",
    "        if len(recs) == rec_num:\r\n",
    "            break\r\n",
    "\r\n",
    "    rec_names = get_article_names(data, recs)\r\n",
    "    \r\n",
    "    return recs, rec_names"
   ],
   "outputs": [],
   "metadata": {
    "collapsed": true
   }
  },
  {
   "cell_type": "code",
   "execution_count": 27,
   "source": [
    "# Quick spot check - don't change this code - just use it to test your functions\r\n",
    "rec_ids, rec_names = user_user_recs_part2(interactions, 20, 10)\r\n",
    "print(\"The top 10 recommendations for user 20 are the following article ids:\")\r\n",
    "print(rec_ids)\r\n",
    "print()\r\n",
    "print(\"The top 10 recommendations for user 20 are the following article names:\")\r\n",
    "print(rec_names)"
   ],
   "outputs": [
    {
     "output_type": "stream",
     "name": "stdout",
     "text": [
      "The top 10 recommendations for user 20 are the following article ids:\n",
      "['1330', '1427', '1364', '1170', '1162', '1304', '1351', '1160', '1354', '1368']\n",
      "\n",
      "The top 10 recommendations for user 20 are the following article names:\n",
      "['apache spark lab, part 1: basic concepts', 'predicting churn with the spss random tree algorithm', 'analyze energy consumption in buildings', 'use xgboost, scikit-learn & ibm watson machine learning apis', 'putting a human face on machine learning', 'gosales transactions for logistic regression model', 'insights from new york car accident reports', 'model bike sharing data with spss', 'analyze accident reports on amazon emr spark', 'movie recommender system with spark machine learning']\n"
     ]
    }
   ],
   "metadata": {
    "collapsed": true
   }
  },
  {
   "cell_type": "markdown",
   "source": [
    "### `5.` Use your functions from above to correctly fill in the solutions to the dictionary below.  Then test your dictionary against the solution.  Provide the code you need to answer each following the comments below."
   ],
   "metadata": {}
  },
  {
   "cell_type": "code",
   "execution_count": 28,
   "source": [
    "### Tests with a dictionary of results\r\n",
    "\r\n",
    "user1_most_sim = get_top_sorted_users(interactions, 1).iloc[0].neighbor_id # Find the user that is most similar to user 1 \r\n",
    "user131_10th_sim = get_top_sorted_users(interactions, 131).iloc[9].neighbor_id # Find the 10th most similar user to user 131"
   ],
   "outputs": [],
   "metadata": {
    "collapsed": true
   }
  },
  {
   "cell_type": "code",
   "execution_count": 29,
   "source": [
    "## Dictionary Test Here\r\n",
    "sol_5_dict = {\r\n",
    "    'The user that is most similar to user 1.': user1_most_sim, \r\n",
    "    'The user that is the 10th most similar to user 131': user131_10th_sim,\r\n",
    "}\r\n",
    "\r\n",
    "t.sol_5_test(sol_5_dict)"
   ],
   "outputs": [
    {
     "output_type": "stream",
     "name": "stdout",
     "text": [
      "This all looks good!  Nice job!\n"
     ]
    }
   ],
   "metadata": {
    "collapsed": true
   }
  },
  {
   "cell_type": "markdown",
   "source": [
    "### `6.` If we were given a new user, which of the above functions would you be able to use to make recommendations?  Explain.  Can you think of a better way we might make recommendations?  Use the cell below to explain a better method for new users."
   ],
   "metadata": {}
  },
  {
   "cell_type": "markdown",
   "source": [
    "> **Cold Start Problem**\r\n",
    "\r\n",
    "> The above recommendation is no use when dealing with new users. The only way we can provide recommendations is by providing rank-based recommendations. If the user profile is also available, we can perhaps try to look for users that has profile similarities and retrieve the articles interacted.\r\n",
    "\r\n",
    "> Rank-based recommendations may not be enough as it lacks the other recommendation factors such as novelty, serendipity and diversity."
   ],
   "metadata": {}
  },
  {
   "cell_type": "markdown",
   "source": [
    "### `7.` Using your existing functions, provide the top 10 recommended articles you would provide for the a new user below.  You can test your function against our thoughts to make sure we are all on the same page with how we might make a recommendation."
   ],
   "metadata": {}
  },
  {
   "cell_type": "code",
   "execution_count": 30,
   "source": [
    "new_user = '0.0'\r\n",
    "\r\n",
    "# What would your recommendations be for this new user '0.0'?  As a new user, they have no observed articles.\r\n",
    "# Provide a list of the top 10 article ids you would give to \r\n",
    "new_user_recs = get_top_article_ids(interactions, 10)"
   ],
   "outputs": [],
   "metadata": {
    "collapsed": true
   }
  },
  {
   "cell_type": "code",
   "execution_count": 31,
   "source": [
    "assert set(new_user_recs) == set(['1314','1429','1293','1427','1162','1364','1304','1170','1431','1330']), \"Oops!  It makes sense that in this case we would want to recommend the most popular articles, because we don't know anything about these users.\"\r\n",
    "\r\n",
    "print(\"That's right!  Nice job!\")"
   ],
   "outputs": [
    {
     "output_type": "stream",
     "name": "stdout",
     "text": [
      "That's right!  Nice job!\n"
     ]
    }
   ],
   "metadata": {
    "collapsed": true
   }
  },
  {
   "cell_type": "markdown",
   "source": [
    "## <a class=\"anchor\" id=\"Content-Recs\">Part IV: Content Based Recommendations (EXTRA - NOT REQUIRED)</a>\r\n",
    "\r\n",
    "Another method we might use to make recommendations is to perform a ranking of the highest ranked articles associated with some term.  You might consider content to be the **doc_body**, **doc_description**, or **doc_full_name**.  There isn't one way to create a content based recommendation, especially considering that each of these columns hold content related information.  \r\n",
    "\r\n",
    "### `1.` Use the function body below to create a content based recommender.  Since there isn't one right answer for this recommendation tactic, no test functions are provided.  Feel free to change the function inputs if you decide you want to try a method that requires more input values.  The input values are currently set with one idea in mind that you may use to make content based recommendations.  One additional idea is that you might want to choose the most popular recommendations that meet your 'content criteria', but again, there is a lot of flexibility in how you might make these recommendations.\r\n",
    "\r\n",
    "### This part is NOT REQUIRED to pass this project.  However, you may choose to take this on as an extra way to show off your skills."
   ],
   "metadata": {}
  },
  {
   "cell_type": "code",
   "execution_count": 32,
   "source": [
    "def make_content_recs():\r\n",
    "    '''\r\n",
    "    INPUT:\r\n",
    "    \r\n",
    "    OUTPUT:\r\n",
    "    \r\n",
    "    '''"
   ],
   "outputs": [],
   "metadata": {
    "collapsed": true
   }
  },
  {
   "cell_type": "markdown",
   "source": [
    "### `2.` Now that you have put together your content-based recommendation system, use the cell below to write a summary explaining how your content based recommender works.  Do you see any possible improvements that could be made to your function?  Is there anything novel about your content based recommender?\r\n",
    "\r\n",
    "### This part is NOT REQUIRED to pass this project.  However, you may choose to take this on as an extra way to show off your skills."
   ],
   "metadata": {}
  },
  {
   "cell_type": "markdown",
   "source": [
    "**Write an explanation of your content based recommendation system here.**"
   ],
   "metadata": {}
  },
  {
   "cell_type": "markdown",
   "source": [
    "### `3.` Use your content-recommendation system to make recommendations for the below scenarios based on the comments.  Again no tests are provided here, because there isn't one right answer that could be used to find these content based recommendations.\r\n",
    "\r\n",
    "### This part is NOT REQUIRED to pass this project.  However, you may choose to take this on as an extra way to show off your skills."
   ],
   "metadata": {}
  },
  {
   "cell_type": "code",
   "execution_count": 33,
   "source": [
    "# make recommendations for a brand new user\r\n",
    "\r\n",
    "\r\n",
    "# make a recommendations for a user who only has interacted with article id '1427.0'\r\n",
    "\r\n"
   ],
   "outputs": [],
   "metadata": {
    "collapsed": true
   }
  },
  {
   "cell_type": "markdown",
   "source": [
    "## <a class=\"anchor\" id=\"Matrix-Fact\">Part V: Matrix Factorization</a>\r\n",
    "\r\n",
    "In this part of the notebook, you will build use matrix factorization to make article recommendations to the users on the IBM Watson Studio platform.\r\n",
    "\r\n",
    "### `1.` You should have already created a **user_item** matrix above in **question 1** of **Part III** above.  This first question here will just require that you run the cells to get things set up for the rest of **Part V** of the notebook. "
   ],
   "metadata": {}
  },
  {
   "cell_type": "code",
   "execution_count": 34,
   "source": [
    "# Load the matrix here\r\n",
    "user_item_matrix = pd.read_pickle('../models/user_item_matrix.p')"
   ],
   "outputs": [],
   "metadata": {
    "collapsed": true
   }
  },
  {
   "cell_type": "code",
   "execution_count": 35,
   "source": [
    "# quick look at the matrix\r\n",
    "user_item_matrix.head()"
   ],
   "outputs": [
    {
     "output_type": "execute_result",
     "data": {
      "text/html": [
       "<div>\n",
       "<style scoped>\n",
       "    .dataframe tbody tr th:only-of-type {\n",
       "        vertical-align: middle;\n",
       "    }\n",
       "\n",
       "    .dataframe tbody tr th {\n",
       "        vertical-align: top;\n",
       "    }\n",
       "\n",
       "    .dataframe thead th {\n",
       "        text-align: right;\n",
       "    }\n",
       "</style>\n",
       "<table border=\"1\" class=\"dataframe\">\n",
       "  <thead>\n",
       "    <tr style=\"text-align: right;\">\n",
       "      <th>article_id</th>\n",
       "      <th>0.0</th>\n",
       "      <th>100.0</th>\n",
       "      <th>1000.0</th>\n",
       "      <th>1004.0</th>\n",
       "      <th>1006.0</th>\n",
       "      <th>1008.0</th>\n",
       "      <th>101.0</th>\n",
       "      <th>1014.0</th>\n",
       "      <th>1015.0</th>\n",
       "      <th>1016.0</th>\n",
       "      <th>...</th>\n",
       "      <th>977.0</th>\n",
       "      <th>98.0</th>\n",
       "      <th>981.0</th>\n",
       "      <th>984.0</th>\n",
       "      <th>985.0</th>\n",
       "      <th>986.0</th>\n",
       "      <th>990.0</th>\n",
       "      <th>993.0</th>\n",
       "      <th>996.0</th>\n",
       "      <th>997.0</th>\n",
       "    </tr>\n",
       "    <tr>\n",
       "      <th>user_id</th>\n",
       "      <th></th>\n",
       "      <th></th>\n",
       "      <th></th>\n",
       "      <th></th>\n",
       "      <th></th>\n",
       "      <th></th>\n",
       "      <th></th>\n",
       "      <th></th>\n",
       "      <th></th>\n",
       "      <th></th>\n",
       "      <th></th>\n",
       "      <th></th>\n",
       "      <th></th>\n",
       "      <th></th>\n",
       "      <th></th>\n",
       "      <th></th>\n",
       "      <th></th>\n",
       "      <th></th>\n",
       "      <th></th>\n",
       "      <th></th>\n",
       "      <th></th>\n",
       "    </tr>\n",
       "  </thead>\n",
       "  <tbody>\n",
       "    <tr>\n",
       "      <th>1</th>\n",
       "      <td>0.0</td>\n",
       "      <td>0.0</td>\n",
       "      <td>0.0</td>\n",
       "      <td>0.0</td>\n",
       "      <td>0.0</td>\n",
       "      <td>0.0</td>\n",
       "      <td>0.0</td>\n",
       "      <td>0.0</td>\n",
       "      <td>0.0</td>\n",
       "      <td>0.0</td>\n",
       "      <td>...</td>\n",
       "      <td>0.0</td>\n",
       "      <td>0.0</td>\n",
       "      <td>1.0</td>\n",
       "      <td>0.0</td>\n",
       "      <td>0.0</td>\n",
       "      <td>0.0</td>\n",
       "      <td>0.0</td>\n",
       "      <td>0.0</td>\n",
       "      <td>0.0</td>\n",
       "      <td>0.0</td>\n",
       "    </tr>\n",
       "    <tr>\n",
       "      <th>2</th>\n",
       "      <td>0.0</td>\n",
       "      <td>0.0</td>\n",
       "      <td>0.0</td>\n",
       "      <td>0.0</td>\n",
       "      <td>0.0</td>\n",
       "      <td>0.0</td>\n",
       "      <td>0.0</td>\n",
       "      <td>0.0</td>\n",
       "      <td>0.0</td>\n",
       "      <td>0.0</td>\n",
       "      <td>...</td>\n",
       "      <td>0.0</td>\n",
       "      <td>0.0</td>\n",
       "      <td>0.0</td>\n",
       "      <td>0.0</td>\n",
       "      <td>0.0</td>\n",
       "      <td>0.0</td>\n",
       "      <td>0.0</td>\n",
       "      <td>0.0</td>\n",
       "      <td>0.0</td>\n",
       "      <td>0.0</td>\n",
       "    </tr>\n",
       "    <tr>\n",
       "      <th>3</th>\n",
       "      <td>0.0</td>\n",
       "      <td>0.0</td>\n",
       "      <td>0.0</td>\n",
       "      <td>0.0</td>\n",
       "      <td>0.0</td>\n",
       "      <td>0.0</td>\n",
       "      <td>0.0</td>\n",
       "      <td>0.0</td>\n",
       "      <td>0.0</td>\n",
       "      <td>0.0</td>\n",
       "      <td>...</td>\n",
       "      <td>1.0</td>\n",
       "      <td>0.0</td>\n",
       "      <td>0.0</td>\n",
       "      <td>0.0</td>\n",
       "      <td>0.0</td>\n",
       "      <td>0.0</td>\n",
       "      <td>0.0</td>\n",
       "      <td>0.0</td>\n",
       "      <td>0.0</td>\n",
       "      <td>0.0</td>\n",
       "    </tr>\n",
       "    <tr>\n",
       "      <th>4</th>\n",
       "      <td>0.0</td>\n",
       "      <td>0.0</td>\n",
       "      <td>0.0</td>\n",
       "      <td>0.0</td>\n",
       "      <td>0.0</td>\n",
       "      <td>0.0</td>\n",
       "      <td>0.0</td>\n",
       "      <td>0.0</td>\n",
       "      <td>0.0</td>\n",
       "      <td>0.0</td>\n",
       "      <td>...</td>\n",
       "      <td>0.0</td>\n",
       "      <td>0.0</td>\n",
       "      <td>0.0</td>\n",
       "      <td>0.0</td>\n",
       "      <td>0.0</td>\n",
       "      <td>0.0</td>\n",
       "      <td>0.0</td>\n",
       "      <td>0.0</td>\n",
       "      <td>0.0</td>\n",
       "      <td>0.0</td>\n",
       "    </tr>\n",
       "    <tr>\n",
       "      <th>5</th>\n",
       "      <td>0.0</td>\n",
       "      <td>0.0</td>\n",
       "      <td>0.0</td>\n",
       "      <td>0.0</td>\n",
       "      <td>0.0</td>\n",
       "      <td>0.0</td>\n",
       "      <td>0.0</td>\n",
       "      <td>0.0</td>\n",
       "      <td>0.0</td>\n",
       "      <td>0.0</td>\n",
       "      <td>...</td>\n",
       "      <td>0.0</td>\n",
       "      <td>0.0</td>\n",
       "      <td>0.0</td>\n",
       "      <td>0.0</td>\n",
       "      <td>0.0</td>\n",
       "      <td>0.0</td>\n",
       "      <td>0.0</td>\n",
       "      <td>0.0</td>\n",
       "      <td>0.0</td>\n",
       "      <td>0.0</td>\n",
       "    </tr>\n",
       "  </tbody>\n",
       "</table>\n",
       "<p>5 rows × 714 columns</p>\n",
       "</div>"
      ],
      "text/plain": [
       "article_id  0.0  100.0  1000.0  1004.0  1006.0  1008.0  101.0  1014.0  1015.0  \\\n",
       "user_id                                                                         \n",
       "1           0.0    0.0     0.0     0.0     0.0     0.0    0.0     0.0     0.0   \n",
       "2           0.0    0.0     0.0     0.0     0.0     0.0    0.0     0.0     0.0   \n",
       "3           0.0    0.0     0.0     0.0     0.0     0.0    0.0     0.0     0.0   \n",
       "4           0.0    0.0     0.0     0.0     0.0     0.0    0.0     0.0     0.0   \n",
       "5           0.0    0.0     0.0     0.0     0.0     0.0    0.0     0.0     0.0   \n",
       "\n",
       "article_id  1016.0  ...  977.0  98.0  981.0  984.0  985.0  986.0  990.0  \\\n",
       "user_id             ...                                                   \n",
       "1              0.0  ...    0.0   0.0    1.0    0.0    0.0    0.0    0.0   \n",
       "2              0.0  ...    0.0   0.0    0.0    0.0    0.0    0.0    0.0   \n",
       "3              0.0  ...    1.0   0.0    0.0    0.0    0.0    0.0    0.0   \n",
       "4              0.0  ...    0.0   0.0    0.0    0.0    0.0    0.0    0.0   \n",
       "5              0.0  ...    0.0   0.0    0.0    0.0    0.0    0.0    0.0   \n",
       "\n",
       "article_id  993.0  996.0  997.0  \n",
       "user_id                          \n",
       "1             0.0    0.0    0.0  \n",
       "2             0.0    0.0    0.0  \n",
       "3             0.0    0.0    0.0  \n",
       "4             0.0    0.0    0.0  \n",
       "5             0.0    0.0    0.0  \n",
       "\n",
       "[5 rows x 714 columns]"
      ]
     },
     "metadata": {},
     "execution_count": 35
    }
   ],
   "metadata": {
    "collapsed": true
   }
  },
  {
   "cell_type": "markdown",
   "source": [
    "### `2.` In this situation, you can use Singular Value Decomposition from [numpy](https://docs.scipy.org/doc/numpy-1.14.0/reference/generated/numpy.linalg.svd.html) on the user-item matrix.  Use the cell to perform SVD, and explain why this is different than in the lesson."
   ],
   "metadata": {}
  },
  {
   "cell_type": "code",
   "execution_count": 36,
   "source": [
    "# Perform SVD on the User-Item Matrix Here\r\n",
    "\r\n",
    "u, s, vt = np.linalg.svd(user_item_matrix)\r\n",
    "u.shape, s.shape, vt.shape"
   ],
   "outputs": [
    {
     "output_type": "execute_result",
     "data": {
      "text/plain": [
       "((5149, 5149), (714,), (714, 714))"
      ]
     },
     "metadata": {},
     "execution_count": 36
    }
   ],
   "metadata": {
    "collapsed": true
   }
  },
  {
   "cell_type": "markdown",
   "source": [
    "> **The Case of Interactions**\r\n",
    "\r\n",
    "> As rating is not provided in the data, we can only rely on interactions. Interactions data has only 2 definite data, `1 - interacted` and `0 - not interacted`. Since the table has no nulls, SVD can work as recommender in this type of table."
   ],
   "metadata": {}
  },
  {
   "cell_type": "markdown",
   "source": [
    "### `3.` Now for the tricky part, how do we choose the number of latent features to use?  Running the below cell, you can see that as the number of latent features increases, we obtain a lower error rate on making predictions for the 1 and 0 values in the user-item matrix.  Run the cell below to get an idea of how the accuracy improves as we increase the number of latent features."
   ],
   "metadata": {}
  },
  {
   "cell_type": "code",
   "execution_count": 37,
   "source": [
    "num_latent_feats = np.arange(10,700+10,20)\r\n",
    "sum_errs = []\r\n",
    "\r\n",
    "for k in num_latent_feats:\r\n",
    "    # restructure with k latent features\r\n",
    "    s_new, u_new, vt_new = np.diag(s[:k]), u[:, :k], vt[:k, :]\r\n",
    "    \r\n",
    "    # take dot product\r\n",
    "    user_item_est = np.around(np.dot(np.dot(u_new, s_new), vt_new))\r\n",
    "    \r\n",
    "    # compute error for each prediction to actual value\r\n",
    "    diffs = np.subtract(user_item_matrix, user_item_est)\r\n",
    "    \r\n",
    "    # total errors and keep track of them\r\n",
    "    err = np.sum(np.sum(np.abs(diffs)))\r\n",
    "    sum_errs.append(err)\r\n",
    "\r\n",
    "\r\n",
    "plt.plot(num_latent_feats, 1 - np.array(sum_errs)/(user_item_matrix.shape[0]*user_item_matrix.shape[1]));\r\n",
    "plt.xlabel('Number of Latent Features');\r\n",
    "plt.ylabel('Accuracy');\r\n",
    "plt.title('Accuracy vs. Number of Latent Features');"
   ],
   "outputs": [
    {
     "output_type": "display_data",
     "data": {
      "image/png": "[encoded data removed]",
      "text/plain": [
       "<Figure size 432x288 with 1 Axes>"
      ]
     },
     "metadata": {
      "needs_background": "light"
     }
    }
   ],
   "metadata": {
    "collapsed": true
   }
  },
  {
   "cell_type": "markdown",
   "source": [
    "### `4.` From the above, we can't really be sure how many features to use, because simply having a better way to predict the 1's and 0's of the matrix doesn't exactly give us an indication of if we are able to make good recommendations.  Instead, we might split our dataset into a training and test set of data, as shown in the cell below.  \r\n",
    "\r\n",
    "Use the code from question 3 to understand the impact on accuracy of the training and test sets of data with different numbers of latent features. Using the split below: \r\n",
    "\r\n",
    "* How many users can we make predictions for in the test set?  \r\n",
    "* How many users are we not able to make predictions for because of the cold start problem?\r\n",
    "* How many articles can we make predictions for in the test set?  \r\n",
    "* How many articles are we not able to make predictions for because of the cold start problem?"
   ],
   "metadata": {}
  },
  {
   "cell_type": "code",
   "execution_count": 38,
   "source": [
    "\r\n",
    "interactions_train = interactions.head(40000)\r\n",
    "interactions_test = interactions.tail(5993)\r\n",
    "\r\n",
    "interactions_train.shape, interactions_test.shape"
   ],
   "outputs": [
    {
     "output_type": "execute_result",
     "data": {
      "text/plain": [
       "((40000, 4), (5993, 4))"
      ]
     },
     "metadata": {},
     "execution_count": 38
    }
   ],
   "metadata": {}
  },
  {
   "cell_type": "code",
   "execution_count": 39,
   "source": [
    "def create_test_and_train_user_item(df_train, df_test):\r\n",
    "    '''\r\n",
    "    INPUT:\r\n",
    "    df_train - training dataframe\r\n",
    "    df_test - test dataframe\r\n",
    "    \r\n",
    "    OUTPUT:\r\n",
    "    user_item_train - a user-item matrix of the training dataframe \r\n",
    "                      (unique users for each row and unique articles for each column)\r\n",
    "    user_item_test - a user-item matrix of the testing dataframe \r\n",
    "                    (unique users for each row and unique articles for each column)\r\n",
    "    test_idx - all of the test user ids\r\n",
    "    test_arts - all of the test article ids\r\n",
    "    \r\n",
    "    '''\r\n",
    "\r\n",
    "    user_item_train = create_user_item_matrix(df_train)\r\n",
    "    user_item_test = create_user_item_matrix(df_test)\r\n",
    "\r\n",
    "    test_idx = user_item_test.index.tolist()\r\n",
    "    test_arts = user_item_test.columns.tolist()\r\n",
    "\r\n",
    "    \r\n",
    "    return user_item_train, user_item_test, test_idx, test_arts\r\n",
    "\r\n",
    "user_item_train, user_item_test, test_idx, test_arts = create_test_and_train_user_item(interactions_train, interactions_test)"
   ],
   "outputs": [],
   "metadata": {
    "collapsed": true
   }
  },
  {
   "cell_type": "code",
   "execution_count": 40,
   "source": [
    "_test_users_in_train = len(np.intersect1d(user_item_train.index, user_item_test.index))\r\n",
    "_test_users_in_train"
   ],
   "outputs": [
    {
     "output_type": "execute_result",
     "data": {
      "text/plain": [
       "20"
      ]
     },
     "metadata": {},
     "execution_count": 40
    }
   ],
   "metadata": {}
  },
  {
   "cell_type": "code",
   "execution_count": 41,
   "source": [
    "_test_users_not_in_train = len(test_idx) - _test_users_in_train\r\n",
    "_test_users_not_in_train"
   ],
   "outputs": [
    {
     "output_type": "execute_result",
     "data": {
      "text/plain": [
       "662"
      ]
     },
     "metadata": {},
     "execution_count": 41
    }
   ],
   "metadata": {}
  },
  {
   "cell_type": "code",
   "execution_count": 42,
   "source": [
    "_test_art_in_train = len(np.intersect1d(user_item_train.columns, user_item_test.columns))\r\n",
    "_test_art_in_train"
   ],
   "outputs": [
    {
     "output_type": "execute_result",
     "data": {
      "text/plain": [
       "574"
      ]
     },
     "metadata": {},
     "execution_count": 42
    }
   ],
   "metadata": {}
  },
  {
   "cell_type": "code",
   "execution_count": 43,
   "source": [
    "_test_art_not_in_train = len(user_item_test.columns) - _test_art_in_train\r\n",
    "_test_art_not_in_train"
   ],
   "outputs": [
    {
     "output_type": "execute_result",
     "data": {
      "text/plain": [
       "0"
      ]
     },
     "metadata": {},
     "execution_count": 43
    }
   ],
   "metadata": {}
  },
  {
   "cell_type": "code",
   "execution_count": 44,
   "source": [
    "# Replace the values in the dictionary below\r\n",
    "a = 662 \r\n",
    "b = 574 \r\n",
    "c = 20 \r\n",
    "d = 0 \r\n",
    "\r\n",
    "\r\n",
    "sol_4_dict = {\r\n",
    "    'How many users can we make predictions for in the test set?': c, # letter here, \r\n",
    "    'How many users in the test set are we not able to make predictions for because of the cold start problem?': a, # letter here, \r\n",
    "    'How many articles can we make predictions for in the test set?': b, # letter here,\r\n",
    "    'How many articles in the test set are we not able to make predictions for because of the cold start problem?': d# letter here\r\n",
    "}\r\n",
    "\r\n",
    "t.sol_4_test(sol_4_dict)"
   ],
   "outputs": [
    {
     "output_type": "stream",
     "name": "stdout",
     "text": [
      "Awesome job!  That's right!  All of the test articles are in the training data, but there are only 20 test users that were also in the training set.  All of the other users that are in the test set we have no data on.  Therefore, we cannot make predictions for these users using SVD.\n"
     ]
    }
   ],
   "metadata": {
    "collapsed": true
   }
  },
  {
   "cell_type": "markdown",
   "source": [
    "### `5.` Now use the **user_item_train** dataset from above to find U, S, and V transpose using SVD. Then find the subset of rows in the **user_item_test** dataset that you can predict using this matrix decomposition with different numbers of latent features to see how many features makes sense to keep based on the accuracy on the test data. This will require combining what was done in questions `2` - `4`.\r\n",
    "\r\n",
    "Use the cells below to explore how well SVD works towards making predictions for recommendations on the test data.  "
   ],
   "metadata": {}
  },
  {
   "cell_type": "code",
   "execution_count": 45,
   "source": [
    "# Uncomment this if use the randomized data instead\r\n",
    "\r\n",
    "# from sklearn.model_selection import train_test_split\r\n",
    "\r\n",
    "# interactions_train, interactions_test = train_test_split(interactions, test_size=0.2, random_state=42)\r\n",
    "\r\n",
    "# user_item_train, user_item_test, test_idx, test_arts = create_test_and_train_user_item(interactions_train, interactions_test)"
   ],
   "outputs": [],
   "metadata": {}
  },
  {
   "cell_type": "code",
   "execution_count": 46,
   "source": [
    "_, user_item_test_sub = intersect_data(user_item_train, user_item_test)\r\n",
    "\r\n",
    "# fit SVD on the user_item_train matrix\r\n",
    "u, s, vt = np.linalg.svd(user_item_train)\r\n",
    "\r\n",
    "s.shape, u.shape, vt.shape"
   ],
   "outputs": [
    {
     "output_type": "execute_result",
     "data": {
      "text/plain": [
       "((714,), (4487, 4487), (714, 714))"
      ]
     },
     "metadata": {},
     "execution_count": 46
    }
   ],
   "metadata": {
    "collapsed": true
   }
  },
  {
   "cell_type": "code",
   "execution_count": 47,
   "source": [
    "# Use these cells to see how well you can use the training \r\n",
    "# decomposition to predict on test data\r\n",
    "\r\n",
    "num_latent_feats = np.arange(10,700,20)\r\n",
    "train_accuracy = []\r\n",
    "test_accuracy = []\r\n",
    "\r\n",
    "for k in num_latent_feats:\r\n",
    "    s_k, u_train, vt_train = np.diag(s[:k]), u[:, :k], vt[:k, :]\r\n",
    "\r\n",
    "    u_test = u_train[user_item_train.index.isin(user_item_test.index), :]\r\n",
    "    vt_test = vt_train[:, user_item_train.columns.isin(user_item_test.columns)]\r\n",
    "\r\n",
    "\r\n",
    "    user_item_train_preds = fit_transform(s_k, u_train, vt_train)\r\n",
    "    user_item_test_preds = fit_transform(s_k, u_test, vt_test)\r\n",
    "\r\n",
    "    train_accuracy.append(calculate_accuracy(user_item_train, user_item_train_preds))\r\n",
    "    test_accuracy.append(calculate_accuracy(user_item_test_sub, user_item_test_preds))\r\n",
    "\r\n",
    "print(train_accuracy)\r\n",
    "plot_accuracy(num_latent_feats, train_accuracy, \"Train\")\r\n",
    "\r\n",
    "print(test_accuracy)\r\n",
    "plot_accuracy(num_latent_feats, test_accuracy, \"Test\")"
   ],
   "outputs": [
    {
     "output_type": "stream",
     "name": "stdout",
     "text": [
      "[0.9917152508429269, 0.9934806996121381, 0.9945962784489771, 0.9955835688409529, 0.9963660971408844, 0.9969582216662016, 0.9974816759777234, 0.9978977550458561, 0.9982276842094092, 0.998512041321989, 0.998746144323564, 0.9989543399262981, 0.9991409980528873, 0.9992867661885347, 0.9994044419639931, 0.9994996438513003, 0.9995795510091712, 0.9996450998496123, 0.9997094001407115, 0.9997805674531903, 0.999817087521436, 0.9998507983536629, 0.9998792028511873, 0.9999066709367054, 0.9999278962755149, 0.9999428788676157, 0.9999619192450772, 0.9999759654251716, 0.9999853295452347, 0.9999912601546078, 0.9999931329786205, 0.999995630077304, 0.9999990635879937, 1.0, 1.0]\n",
      "[0.978397212543554, 0.9765679442508711, 0.9753484320557492, 0.9736062717770035, 0.9722996515679443, 0.9704703832752614, 0.9695121951219512, 0.9687282229965157, 0.9680313588850175, 0.9673344947735192, 0.9666376306620209, 0.9662891986062718, 0.965766550522648, 0.965418118466899, 0.9651567944250871, 0.964808362369338, 0.964808362369338, 0.9646341463414634, 0.9646341463414634, 0.9644599303135889, 0.9644599303135889, 0.9644599303135889, 0.9644599303135889, 0.9644599303135889, 0.9644599303135889, 0.9644599303135889, 0.9644599303135889, 0.9644599303135889, 0.9644599303135889, 0.9644599303135889, 0.9644599303135889, 0.9644599303135889, 0.9644599303135889, 0.9644599303135889, 0.9644599303135889]\n"
     ]
    },
    {
     "output_type": "display_data",
     "data": {
      "image/png": "[encoded data removed]",
      "text/plain": [
       "<Figure size 432x288 with 1 Axes>"
      ]
     },
     "metadata": {
      "needs_background": "light"
     }
    }
   ],
   "metadata": {
    "collapsed": true
   }
  },
  {
   "cell_type": "markdown",
   "source": [
    "### `6.` Use the cell below to comment on the results you found in the previous question. Given the circumstances of your results, discuss what you might do to determine if the recommendations you make with any of the above recommendation systems are an improvement to how users currently find articles? "
   ],
   "metadata": {
    "collapsed": true
   }
  },
  {
   "cell_type": "markdown",
   "source": [
    "> **The Number of Latent Features**\r\n",
    "\r\n",
    "> Such a waste of data that only 20 users are  "
   ],
   "metadata": {}
  },
  {
   "cell_type": "markdown",
   "source": [
    "<a id='conclusions'></a>\r\n",
    "### Extras\r\n",
    "Using your workbook, you could now save your recommendations for each user, develop a class to make new predictions and update your results, and make a flask app to deploy your results.  These tasks are beyond what is required for this project.  However, from what you learned in the lessons, you certainly capable of taking these tasks on to improve upon your work here!\r\n",
    "\r\n",
    "\r\n",
    "## Conclusion\r\n",
    "\r\n",
    "> Congratulations!  You have reached the end of the Recommendations with IBM project! "
   ],
   "metadata": {
    "collapsed": true
   }
  },
  {
   "cell_type": "code",
   "execution_count": 48,
   "source": [
    "from subprocess import call\r\n",
    "call(['python', '-m', 'nbconvert', 'Recommendations_with_IBM.ipynb'])"
   ],
   "outputs": [
    {
     "output_type": "execute_result",
     "data": {
      "text/plain": [
       "4294967295"
      ]
     },
     "metadata": {},
     "execution_count": 48
    }
   ],
   "metadata": {
    "collapsed": true
   }
  }
 ],
 "metadata": {
  "kernelspec": {
   "name": "python3",
   "display_name": "Python 3.9.7 64-bit ('ibm_recommend': conda)"
  },
  "language_info": {
   "codemirror_mode": {
    "name": "ipython",
    "version": 3
   },
   "file_extension": ".py",
   "mimetype": "text/x-python",
   "name": "python",
   "nbconvert_exporter": "python",
   "pygments_lexer": "ipython3",
   "version": "3.9.7"
  },
  "interpreter": {
   "hash": "19aceec5fcd6fe28670f39531927d47e7d5a10fdb638099df591bdce68205e34"
  }
 },
 "nbformat": 4,
 "nbformat_minor": 2
}