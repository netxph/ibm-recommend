{
 "cells": [
  {
   "cell_type": "markdown",
   "source": [
    "# Recommendations with IBM\r\n",
    "## Exploratory Data Analysis\r\n",
    "\r\n"
   ],
   "metadata": {}
  },
  {
   "cell_type": "markdown",
   "source": [
    "In this notebook, you will be putting your recommendation skills to use on real data from the IBM Watson Studio platform. "
   ],
   "metadata": {}
  },
  {
   "cell_type": "code",
   "execution_count": 1,
   "source": [
    "!pip install -e ../"
   ],
   "outputs": [
    {
     "output_type": "stream",
     "name": "stdout",
     "text": [
      "Obtaining file:///C:/Users/netxph/Projects/ibm-recommend\n",
      "Installing collected packages: ibm-recommend\n",
      "  Attempting uninstall: ibm-recommend\n",
      "    Found existing installation: ibm-recommend 0.1.0\n",
      "    Uninstalling ibm-recommend-0.1.0:\n",
      "      Successfully uninstalled ibm-recommend-0.1.0\n",
      "  Running setup.py develop for ibm-recommend\n",
      "Successfully installed ibm-recommend-0.1.0\n"
     ]
    }
   ],
   "metadata": {}
  },
  {
   "cell_type": "code",
   "execution_count": 2,
   "source": [
    "import pandas as pd\r\n",
    "import numpy as np\r\n",
    "\r\n",
    "from ibm_recommend import project_tests as t\r\n",
    "from ibm_recommend.cleaning import email_mapper\r\n",
    "\r\n",
    "%matplotlib inline"
   ],
   "outputs": [],
   "metadata": {
    "collapsed": true
   }
  },
  {
   "cell_type": "code",
   "execution_count": 3,
   "source": [
    "articles = pd.read_csv(\"../data/processed/articles.csv\")\r\n",
    "articles.head()"
   ],
   "outputs": [
    {
     "output_type": "execute_result",
     "data": {
      "text/html": [
       "<div>\n",
       "<style scoped>\n",
       "    .dataframe tbody tr th:only-of-type {\n",
       "        vertical-align: middle;\n",
       "    }\n",
       "\n",
       "    .dataframe tbody tr th {\n",
       "        vertical-align: top;\n",
       "    }\n",
       "\n",
       "    .dataframe thead th {\n",
       "        text-align: right;\n",
       "    }\n",
       "</style>\n",
       "<table border=\"1\" class=\"dataframe\">\n",
       "  <thead>\n",
       "    <tr style=\"text-align: right;\">\n",
       "      <th></th>\n",
       "      <th>article_id</th>\n",
       "      <th>name</th>\n",
       "      <th>description</th>\n",
       "      <th>body</th>\n",
       "    </tr>\n",
       "  </thead>\n",
       "  <tbody>\n",
       "    <tr>\n",
       "      <th>0</th>\n",
       "      <td>0</td>\n",
       "      <td>Detect Malfunctioning IoT Sensors with Streami...</td>\n",
       "      <td>Detect bad readings in real time using Python ...</td>\n",
       "      <td>Skip navigation Sign in SearchLoading...\\r\\n\\r...</td>\n",
       "    </tr>\n",
       "    <tr>\n",
       "      <th>1</th>\n",
       "      <td>1</td>\n",
       "      <td>Communicating data science: A guide to present...</td>\n",
       "      <td>See the forest, see the trees. Here lies the c...</td>\n",
       "      <td>No Free Hunch Navigation * kaggle.com\\r\\n\\r\\n ...</td>\n",
       "    </tr>\n",
       "    <tr>\n",
       "      <th>2</th>\n",
       "      <td>2</td>\n",
       "      <td>This Week in Data Science (April 18, 2017)</td>\n",
       "      <td>Here’s this week’s news in Data Science and Bi...</td>\n",
       "      <td>☰ * Login\\r\\n * Sign Up\\r\\n\\r\\n * Learning Pat...</td>\n",
       "    </tr>\n",
       "    <tr>\n",
       "      <th>3</th>\n",
       "      <td>3</td>\n",
       "      <td>DataLayer Conference: Boost the performance of...</td>\n",
       "      <td>Learn how distributed DBs solve the problem of...</td>\n",
       "      <td>DATALAYER: HIGH THROUGHPUT, LOW LATENCY AT SCA...</td>\n",
       "    </tr>\n",
       "    <tr>\n",
       "      <th>4</th>\n",
       "      <td>4</td>\n",
       "      <td>Analyze NY Restaurant data using Spark in DSX</td>\n",
       "      <td>This video demonstrates the power of IBM DataS...</td>\n",
       "      <td>Skip navigation Sign in SearchLoading...\\r\\n\\r...</td>\n",
       "    </tr>\n",
       "  </tbody>\n",
       "</table>\n",
       "</div>"
      ],
      "text/plain": [
       "   article_id                                               name  \\\n",
       "0           0  Detect Malfunctioning IoT Sensors with Streami...   \n",
       "1           1  Communicating data science: A guide to present...   \n",
       "2           2         This Week in Data Science (April 18, 2017)   \n",
       "3           3  DataLayer Conference: Boost the performance of...   \n",
       "4           4      Analyze NY Restaurant data using Spark in DSX   \n",
       "\n",
       "                                         description  \\\n",
       "0  Detect bad readings in real time using Python ...   \n",
       "1  See the forest, see the trees. Here lies the c...   \n",
       "2  Here’s this week’s news in Data Science and Bi...   \n",
       "3  Learn how distributed DBs solve the problem of...   \n",
       "4  This video demonstrates the power of IBM DataS...   \n",
       "\n",
       "                                                body  \n",
       "0  Skip navigation Sign in SearchLoading...\\r\\n\\r...  \n",
       "1  No Free Hunch Navigation * kaggle.com\\r\\n\\r\\n ...  \n",
       "2  ☰ * Login\\r\\n * Sign Up\\r\\n\\r\\n * Learning Pat...  \n",
       "3  DATALAYER: HIGH THROUGHPUT, LOW LATENCY AT SCA...  \n",
       "4  Skip navigation Sign in SearchLoading...\\r\\n\\r...  "
      ]
     },
     "metadata": {},
     "execution_count": 3
    }
   ],
   "metadata": {}
  },
  {
   "cell_type": "code",
   "execution_count": 4,
   "source": [
    "articles.info()"
   ],
   "outputs": [
    {
     "output_type": "stream",
     "name": "stdout",
     "text": [
      "<class 'pandas.core.frame.DataFrame'>\n",
      "RangeIndex: 1051 entries, 0 to 1050\n",
      "Data columns (total 4 columns):\n",
      " #   Column       Non-Null Count  Dtype \n",
      "---  ------       --------------  ----- \n",
      " 0   article_id   1051 non-null   int64 \n",
      " 1   name         1051 non-null   object\n",
      " 2   description  1048 non-null   object\n",
      " 3   body         1037 non-null   object\n",
      "dtypes: int64(1), object(3)\n",
      "memory usage: 33.0+ KB\n"
     ]
    }
   ],
   "metadata": {}
  },
  {
   "cell_type": "code",
   "execution_count": 5,
   "source": [
    "interactions = pd.read_csv(\"../data/processed/interactions.csv\")\r\n",
    "interactions.head()"
   ],
   "outputs": [
    {
     "output_type": "execute_result",
     "data": {
      "text/html": [
       "<div>\n",
       "<style scoped>\n",
       "    .dataframe tbody tr th:only-of-type {\n",
       "        vertical-align: middle;\n",
       "    }\n",
       "\n",
       "    .dataframe tbody tr th {\n",
       "        vertical-align: top;\n",
       "    }\n",
       "\n",
       "    .dataframe thead th {\n",
       "        text-align: right;\n",
       "    }\n",
       "</style>\n",
       "<table border=\"1\" class=\"dataframe\">\n",
       "  <thead>\n",
       "    <tr style=\"text-align: right;\">\n",
       "      <th></th>\n",
       "      <th>user_id</th>\n",
       "      <th>article_id</th>\n",
       "      <th>title</th>\n",
       "      <th>email</th>\n",
       "    </tr>\n",
       "  </thead>\n",
       "  <tbody>\n",
       "    <tr>\n",
       "      <th>0</th>\n",
       "      <td>1</td>\n",
       "      <td>1430</td>\n",
       "      <td>using pixiedust for fast, flexible, and easier...</td>\n",
       "      <td>ef5f11f77ba020cd36e1105a00ab868bbdbf7fe7</td>\n",
       "    </tr>\n",
       "    <tr>\n",
       "      <th>1</th>\n",
       "      <td>2</td>\n",
       "      <td>1314</td>\n",
       "      <td>healthcare python streaming application demo</td>\n",
       "      <td>083cbdfa93c8444beaa4c5f5e0f5f9198e4f9e0b</td>\n",
       "    </tr>\n",
       "    <tr>\n",
       "      <th>2</th>\n",
       "      <td>3</td>\n",
       "      <td>1429</td>\n",
       "      <td>use deep learning for image classification</td>\n",
       "      <td>b96a4f2e92d8572034b1e9b28f9ac673765cd074</td>\n",
       "    </tr>\n",
       "    <tr>\n",
       "      <th>3</th>\n",
       "      <td>4</td>\n",
       "      <td>1338</td>\n",
       "      <td>ml optimization using cognitive assistant</td>\n",
       "      <td>06485706b34a5c9bf2a0ecdac41daf7e7654ceb7</td>\n",
       "    </tr>\n",
       "    <tr>\n",
       "      <th>4</th>\n",
       "      <td>5</td>\n",
       "      <td>1276</td>\n",
       "      <td>deploy your python model as a restful api</td>\n",
       "      <td>f01220c46fc92c6e6b161b1849de11faacd7ccb2</td>\n",
       "    </tr>\n",
       "  </tbody>\n",
       "</table>\n",
       "</div>"
      ],
      "text/plain": [
       "   user_id  article_id                                              title  \\\n",
       "0        1        1430  using pixiedust for fast, flexible, and easier...   \n",
       "1        2        1314       healthcare python streaming application demo   \n",
       "2        3        1429         use deep learning for image classification   \n",
       "3        4        1338          ml optimization using cognitive assistant   \n",
       "4        5        1276          deploy your python model as a restful api   \n",
       "\n",
       "                                      email  \n",
       "0  ef5f11f77ba020cd36e1105a00ab868bbdbf7fe7  \n",
       "1  083cbdfa93c8444beaa4c5f5e0f5f9198e4f9e0b  \n",
       "2  b96a4f2e92d8572034b1e9b28f9ac673765cd074  \n",
       "3  06485706b34a5c9bf2a0ecdac41daf7e7654ceb7  \n",
       "4  f01220c46fc92c6e6b161b1849de11faacd7ccb2  "
      ]
     },
     "metadata": {},
     "execution_count": 5
    }
   ],
   "metadata": {}
  },
  {
   "cell_type": "code",
   "execution_count": 6,
   "source": [
    "interactions.info()"
   ],
   "outputs": [
    {
     "output_type": "stream",
     "name": "stdout",
     "text": [
      "<class 'pandas.core.frame.DataFrame'>\n",
      "RangeIndex: 45993 entries, 0 to 45992\n",
      "Data columns (total 4 columns):\n",
      " #   Column      Non-Null Count  Dtype \n",
      "---  ------      --------------  ----- \n",
      " 0   user_id     45993 non-null  int64 \n",
      " 1   article_id  45993 non-null  int64 \n",
      " 2   title       45993 non-null  object\n",
      " 3   email       45976 non-null  object\n",
      "dtypes: int64(2), object(2)\n",
      "memory usage: 1.4+ MB\n"
     ]
    }
   ],
   "metadata": {}
  },
  {
   "cell_type": "markdown",
   "source": [
    "### `1.` What is the distribution of how many articles a user interacts with in the dataset?  Provide a visual and descriptive statistics to assist with giving a look at the number of times each user interacts with an article.  "
   ],
   "metadata": {}
  },
  {
   "cell_type": "code",
   "execution_count": 7,
   "source": [
    "interactions.groupby(\"email\").user_id.count().sort_values(ascending = False)"
   ],
   "outputs": [
    {
     "output_type": "execute_result",
     "data": {
      "text/plain": [
       "email\n",
       "2b6c0f514c2f2b04ad3c4583407dccd0810469ee    364\n",
       "77959baaa9895a7e2bdc9297f8b27c1b6f2cb52a    363\n",
       "2f5c7feae533ce046f2cb16fb3a29fe00528ed66    170\n",
       "a37adec71b667b297ed2440a9ff7dad427c7ac85    169\n",
       "8510a5010a5d4c89f5b07baac6de80cd12cfaf93    160\n",
       "                                           ... \n",
       "1b520f0f65c0aee52d4235f92fb2de58fa966635      1\n",
       "7a67e4a2902a20062e1f2a6835b6e099b34b4f6c      1\n",
       "c4b7e639e91b1d18e5b9c000f0ad3354888fcdde      1\n",
       "7a7fb282789944665ffc1cddee5ddbdbd7ca9f64      1\n",
       "9655144418d25a0e074616840447e6e5dbef0069      1\n",
       "Name: user_id, Length: 5148, dtype: int64"
      ]
     },
     "metadata": {},
     "execution_count": 7
    }
   ],
   "metadata": {}
  },
  {
   "cell_type": "code",
   "execution_count": 8,
   "source": [
    "# non-unique interactions\r\n",
    "\r\n",
    "interactions.groupby(\"email\").user_id.count().hist(bins=100)"
   ],
   "outputs": [
    {
     "output_type": "execute_result",
     "data": {
      "text/plain": [
       "<AxesSubplot:>"
      ]
     },
     "metadata": {},
     "execution_count": 8
    },
    {
     "output_type": "display_data",
     "data": {
      "image/png": "[encoded data removed]",
      "text/plain": [
       "<Figure size 432x288 with 1 Axes>"
      ]
     },
     "metadata": {
      "needs_background": "light"
     }
    }
   ],
   "metadata": {}
  },
  {
   "cell_type": "code",
   "execution_count": 9,
   "source": [
    "interactions[[\"email\", \"article_id\"]].drop_duplicates().groupby(\"email\").article_id.count().sort_values(ascending = False)"
   ],
   "outputs": [
    {
     "output_type": "execute_result",
     "data": {
      "text/plain": [
       "email\n",
       "2b6c0f514c2f2b04ad3c4583407dccd0810469ee    135\n",
       "77959baaa9895a7e2bdc9297f8b27c1b6f2cb52a    135\n",
       "d9032ff68d0fd45dfd18c0c5f7324619bb55362c    101\n",
       "c60bb0a50c324dad0bffd8809d121246baef372b    100\n",
       "a37adec71b667b297ed2440a9ff7dad427c7ac85     97\n",
       "                                           ... \n",
       "1ab433bafebd7f8b6322c05def9b41e0f029ea83      1\n",
       "8283f83275dbd8cc8a2dd4d35a25f4a86310afbd      1\n",
       "c1ad3e68598e288e5df72275ba03444ee218aab8      1\n",
       "1ab7c183ceb155cab3b9dcc92f36039b025cd86e      1\n",
       "262b5095f21d3addbff0ab212a968a467cc7592b      1\n",
       "Name: article_id, Length: 5148, dtype: int64"
      ]
     },
     "metadata": {},
     "execution_count": 9
    }
   ],
   "metadata": {}
  },
  {
   "cell_type": "code",
   "execution_count": 10,
   "source": [
    "# unique interactions\r\n",
    "\r\n",
    "interactions[[\"email\", \"article_id\"]].drop_duplicates().groupby(\"email\").article_id.count().hist(bins=10)"
   ],
   "outputs": [
    {
     "output_type": "execute_result",
     "data": {
      "text/plain": [
       "<AxesSubplot:>"
      ]
     },
     "metadata": {},
     "execution_count": 10
    },
    {
     "output_type": "display_data",
     "data": {
      "image/png": "[encoded data removed]",
      "text/plain": [
       "<Figure size 432x288 with 1 Axes>"
      ]
     },
     "metadata": {
      "needs_background": "light"
     }
    }
   ],
   "metadata": {}
  },
  {
   "cell_type": "code",
   "execution_count": 11,
   "source": [
    "# Fill in the median and maximum number of user_article interactions below\r\n",
    "\r\n",
    "median_val = interactions.groupby(\"email\").count().median().values[0]\r\n",
    "print(f\"50% of individuals interact with {median_val} number of articles or fewer.\")\r\n",
    "\r\n",
    "max_views_by_user = interactions.groupby(\"email\").count().max().values[0]\r\n",
    "print(f\"The maximum number of user-article interactions by any 1 user is {max_views_by_user}.\")"
   ],
   "outputs": [
    {
     "output_type": "stream",
     "name": "stdout",
     "text": [
      "50% of individuals interact with 3.0 number of articles or fewer.\n",
      "The maximum number of user-article interactions by any 1 user is 364.\n"
     ]
    }
   ],
   "metadata": {
    "collapsed": true
   }
  },
  {
   "cell_type": "markdown",
   "source": [
    "### `2.` Use the cells below to find:\r\n",
    "\r\n",
    "**a.** The number of unique articles that have an interaction with a user.  \r\n",
    "**b.** The number of unique articles in the dataset (whether they have any interactions or not).<br>\r\n",
    "**c.** The number of unique users in the dataset. (excluding null values) <br>\r\n",
    "**d.** The number of user-article interactions in the dataset."
   ],
   "metadata": {}
  },
  {
   "cell_type": "code",
   "execution_count": 12,
   "source": [
    "unique_articles = interactions.article_id.nunique()\r\n",
    "print(f\"The number of unique articles that have at least one interaction: {unique_articles}\")\r\n",
    "\r\n",
    "total_articles = len(articles)\r\n",
    "print(f\"The number of unique articles on the IBM platform: {total_articles}\")\r\n",
    "\r\n",
    "unique_users = interactions.email.nunique()\r\n",
    "print(f\"The number of unique users: {unique_users}\")\r\n",
    "\r\n",
    "user_article_interactions = len(interactions)\r\n",
    "print(f\"The number of user-article interactions: {user_article_interactions}\")"
   ],
   "outputs": [
    {
     "output_type": "stream",
     "name": "stdout",
     "text": [
      "The number of unique articles that have at least one interaction: 714\n",
      "The number of unique articles on the IBM platform: 1051\n",
      "The number of unique users: 5148\n",
      "The number of user-article interactions: 45993\n"
     ]
    }
   ],
   "metadata": {
    "collapsed": true
   }
  },
  {
   "cell_type": "markdown",
   "source": [
    "### `3.` Use the cells below to find the most viewed **article_id**, as well as how often it was viewed.  After talking to the company leaders, the `email_mapper` function was deemed a reasonable way to map users to ids.  There were a small number of null values, and it was found that all of these null values likely belonged to a single user (which is how they are stored using the function below)."
   ],
   "metadata": {}
  },
  {
   "cell_type": "code",
   "execution_count": 13,
   "source": [
    "most_viewed_article_id = str(interactions.groupby(\"article_id\").count().email.sort_values(ascending = False).index[0])\r\n",
    "print(f\"The most viewed article in the dataset as a string with one value following the decimal: {most_viewed_article_id}\")\r\n",
    "\r\n",
    "max_views = interactions.groupby(\"article_id\").count().email.sort_values(ascending = False).values[0]\r\n",
    "print(f\"The most viewed article in the dataset was viewed how many times? {max_views}\")"
   ],
   "outputs": [
    {
     "output_type": "stream",
     "name": "stdout",
     "text": [
      "The most viewed article in the dataset as a string with one value following the decimal: 1429\n",
      "The most viewed article in the dataset was viewed how many times? 937\n"
     ]
    }
   ],
   "metadata": {
    "collapsed": true
   }
  },
  {
   "cell_type": "code",
   "execution_count": 14,
   "source": [
    "## If you stored all your results in the variable names above, \r\n",
    "## you shouldn't need to change anything in this cell\r\n",
    "\r\n",
    "sol_1_dict = {\r\n",
    "    '`50% of individuals have _____ or fewer interactions.`': median_val,\r\n",
    "    '`The total number of user-article interactions in the dataset is ______.`': user_article_interactions,\r\n",
    "    '`The maximum number of user-article interactions by any 1 user is ______.`': max_views_by_user,\r\n",
    "    '`The most viewed article in the dataset was viewed _____ times.`': max_views,\r\n",
    "    '`The article_id of the most viewed article is ______.`': most_viewed_article_id,\r\n",
    "    '`The number of unique articles that have at least 1 rating ______.`': unique_articles,\r\n",
    "    '`The number of unique users in the dataset is ______`': unique_users,\r\n",
    "    '`The number of unique articles on the IBM platform`': total_articles\r\n",
    "}\r\n",
    "\r\n",
    "# Test your dictionary against the solution\r\n",
    "t.sol_1_test(sol_1_dict)"
   ],
   "outputs": [
    {
     "output_type": "stream",
     "name": "stdout",
     "text": [
      "It looks like you have everything right here! Nice job!\n"
     ]
    }
   ],
   "metadata": {
    "collapsed": true
   }
  }
 ],
 "metadata": {
  "kernelspec": {
   "name": "python3",
   "display_name": "Python 3.9.7 64-bit ('ibm_recommend': conda)"
  },
  "language_info": {
   "codemirror_mode": {
    "name": "ipython",
    "version": 3
   },
   "file_extension": ".py",
   "mimetype": "text/x-python",
   "name": "python",
   "nbconvert_exporter": "python",
   "pygments_lexer": "ipython3",
   "version": "3.9.7"
  },
  "interpreter": {
   "hash": "19aceec5fcd6fe28670f39531927d47e7d5a10fdb638099df591bdce68205e34"
  }
 },
 "nbformat": 4,
 "nbformat_minor": 2
}